{
 "cells": [
  {
   "cell_type": "code",
   "execution_count": 1,
   "metadata": {
    "collapsed": true
   },
   "outputs": [],
   "source": [
    "import random\n",
    "import time\n",
    "import urllib.request\n",
    "from bs4 import BeautifulSoup as bs\n",
    "import re\n",
    "import jieba\n",
    "import pandas as pd\n",
    "import numpy as np\n",
    "import requests\n",
    "import os"
   ]
  },
  {
   "cell_type": "code",
   "execution_count": 34,
   "outputs": [
    {
     "data": {
      "text/plain": "Empty DataFrame\nColumns: [news title, news publisher, news writer, news content, news date, news category]\nIndex: []",
      "text/html": "<div>\n<style scoped>\n    .dataframe tbody tr th:only-of-type {\n        vertical-align: middle;\n    }\n\n    .dataframe tbody tr th {\n        vertical-align: top;\n    }\n\n    .dataframe thead th {\n        text-align: right;\n    }\n</style>\n<table border=\"1\" class=\"dataframe\">\n  <thead>\n    <tr style=\"text-align: right;\">\n      <th></th>\n      <th>news title</th>\n      <th>news publisher</th>\n      <th>news writer</th>\n      <th>news content</th>\n      <th>news date</th>\n      <th>news category</th>\n    </tr>\n  </thead>\n  <tbody>\n  </tbody>\n</table>\n</div>"
     },
     "execution_count": 34,
     "metadata": {},
     "output_type": "execute_result"
    }
   ],
   "source": [
    "#reset dataframe\n",
    "#新闻标题，日期，发布人，撰稿人，新闻类别，新闻内容\n",
    "# news_detail_df = pd.DataFrame(columns=['news title', 'news publisher', 'news writer',\n",
    "#                                         'news content', 'news date', 'news category'])\n",
    "# news_detail_df"
   ],
   "metadata": {
    "collapsed": false,
    "pycharm": {
     "name": "#%%\n"
    }
   }
  },
  {
   "cell_type": "code",
   "execution_count": 3,
   "outputs": [],
   "source": [
    "# read existed csv file\n",
    "news_detail_df = pd.read_csv('result_detail.csv')\n",
    "news_detail_df_link = news_detail_df['link'].values.tolist()"
   ],
   "metadata": {
    "collapsed": false,
    "pycharm": {
     "name": "#%%\n"
    }
   }
  },
  {
   "cell_type": "code",
   "execution_count": 4,
   "outputs": [
    {
     "data": {
      "text/plain": "                                   title publisher    writer  \\\n0                   苏州市分公司开展2020年度安全生产培训   发布人: 徐可      撰稿人:   \n1             苏州联通干字当头，全力保障沪苏通长江公铁大桥正式通车   发布人: 徐可      撰稿人:   \n2           明方向 知不足 打胜仗——苏州市分公司召开7月工作部署会   发布人: 徐可      撰稿人:   \n3     “全力以赴，奋战三季度”——市区分公司快速落实市分公司周例会工作要求   发布人: 徐可      撰稿人:   \n4                     张家港分公司召开“7月第二周周例会”   发布人: 陈莹      撰稿人:   \n...                                  ...       ...       ...   \n2155            使命担当、数字防疫 ——太仓政企青年突击队在行动  发布人: 王晓晨  撰稿人: 王晓晨   \n2156           双胜利 站出来 冲在前—— 公众条线稳发展保产保收  发布人: 陆瑶雯  撰稿人: 陆瑶雯   \n2157    “疫情就是命令，防控就是责任”苏州联通职能线党员青年突击队在行动  发布人: 吴荣昌  撰稿人: 吴荣昌   \n2158          张家港分公司召开第三支队伍 “外呼突击队”工作部署会   发布人: 陈莹   撰稿人: 陆惠   \n2159               不舍昼夜、抗疫有我—吴江联通松陵商企突击队  发布人: 李乃娟   撰稿人: 黄澜   \n\n                                                content  \\\n0      7月4日，为进一步落实企业安全生产主体责任，提升企业安全生产能力和水平，苏州市分公司在滨河...   \n1      7月1日上午11时45分，随着沪苏通铁路首趟列车缓缓使入张家港站，苏州常熟、太仓、张家港三...   \n2      7月6日，苏州市分公司召开7月工作部署会，总结6月得失，明确7月方向。公司领导班子、各区县...   \n3      7月13日晚，市区分公司在滨河路1300号309会议室召集各条线部门、网格、片区经理，快速...   \n4      7月13日晚，张家港分公司召开“7月第二周周例会”，各部门、网格（中心）对上周的工作情况进...   \n...                                                 ...   \n2155      为了充分发挥抗“疫”先锋作用，以最快的速度响应落实政府防疫需求，确保疫情防疫工作有效...   \n2156     面对疫情严峻形势，为保发展产能不掉队，渠道运营中心在公司党委带领下，快速响应、调整战略...   \n2157  2月13日以来，苏州市突发新冠肺炎疫情，防控形势严峻复杂。为迅速落实市委市政府对疫情防控工作...   \n2158   2月21日晚，张家港公司召开“外呼突击队”工作部署会，快速落实市分工作要求，部署疫情下价值...   \n2159   自苏城此番疫情以来，吴江面临着严峻复杂的防疫形势，自2月14日凌晨疫情警报响起后，吴江松陵...   \n\n                        date        category        link  \n0     周一, 07/06/2020 - 14:40           新闻类别:    /node/84  \n1     周一, 07/06/2020 - 22:15           新闻类别:    /node/85  \n2     周二, 07/07/2020 - 15:56           新闻类别:    /node/87  \n3     周二, 07/14/2020 - 12:19           新闻类别:   /node/103  \n4     周二, 07/14/2020 - 15:22           新闻类别:   /node/106  \n...                      ...             ...         ...  \n2155  周一, 02/21/2022 - 17:25        新闻类别: 党建  /node/4147  \n2156  周一, 02/21/2022 - 17:48  新闻类别: 会议活动（内部）  /node/4148  \n2157  周一, 02/21/2022 - 17:51        新闻类别: 党建  /node/4149  \n2158  周二, 02/22/2022 - 09:08  新闻类别: 会议活动（内部）  /node/4151  \n2159  周二, 02/22/2022 - 10:13  新闻类别: 会议活动（外部）  /node/4152  \n\n[2160 rows x 7 columns]",
      "text/html": "<div>\n<style scoped>\n    .dataframe tbody tr th:only-of-type {\n        vertical-align: middle;\n    }\n\n    .dataframe tbody tr th {\n        vertical-align: top;\n    }\n\n    .dataframe thead th {\n        text-align: right;\n    }\n</style>\n<table border=\"1\" class=\"dataframe\">\n  <thead>\n    <tr style=\"text-align: right;\">\n      <th></th>\n      <th>title</th>\n      <th>publisher</th>\n      <th>writer</th>\n      <th>content</th>\n      <th>date</th>\n      <th>category</th>\n      <th>link</th>\n    </tr>\n  </thead>\n  <tbody>\n    <tr>\n      <th>0</th>\n      <td>苏州市分公司开展2020年度安全生产培训</td>\n      <td>发布人: 徐可</td>\n      <td>撰稿人:</td>\n      <td>7月4日，为进一步落实企业安全生产主体责任，提升企业安全生产能力和水平，苏州市分公司在滨河...</td>\n      <td>周一, 07/06/2020 - 14:40</td>\n      <td>新闻类别:</td>\n      <td>/node/84</td>\n    </tr>\n    <tr>\n      <th>1</th>\n      <td>苏州联通干字当头，全力保障沪苏通长江公铁大桥正式通车</td>\n      <td>发布人: 徐可</td>\n      <td>撰稿人:</td>\n      <td>7月1日上午11时45分，随着沪苏通铁路首趟列车缓缓使入张家港站，苏州常熟、太仓、张家港三...</td>\n      <td>周一, 07/06/2020 - 22:15</td>\n      <td>新闻类别:</td>\n      <td>/node/85</td>\n    </tr>\n    <tr>\n      <th>2</th>\n      <td>明方向 知不足 打胜仗——苏州市分公司召开7月工作部署会</td>\n      <td>发布人: 徐可</td>\n      <td>撰稿人:</td>\n      <td>7月6日，苏州市分公司召开7月工作部署会，总结6月得失，明确7月方向。公司领导班子、各区县...</td>\n      <td>周二, 07/07/2020 - 15:56</td>\n      <td>新闻类别:</td>\n      <td>/node/87</td>\n    </tr>\n    <tr>\n      <th>3</th>\n      <td>“全力以赴，奋战三季度”——市区分公司快速落实市分公司周例会工作要求</td>\n      <td>发布人: 徐可</td>\n      <td>撰稿人:</td>\n      <td>7月13日晚，市区分公司在滨河路1300号309会议室召集各条线部门、网格、片区经理，快速...</td>\n      <td>周二, 07/14/2020 - 12:19</td>\n      <td>新闻类别:</td>\n      <td>/node/103</td>\n    </tr>\n    <tr>\n      <th>4</th>\n      <td>张家港分公司召开“7月第二周周例会”</td>\n      <td>发布人: 陈莹</td>\n      <td>撰稿人:</td>\n      <td>7月13日晚，张家港分公司召开“7月第二周周例会”，各部门、网格（中心）对上周的工作情况进...</td>\n      <td>周二, 07/14/2020 - 15:22</td>\n      <td>新闻类别:</td>\n      <td>/node/106</td>\n    </tr>\n    <tr>\n      <th>...</th>\n      <td>...</td>\n      <td>...</td>\n      <td>...</td>\n      <td>...</td>\n      <td>...</td>\n      <td>...</td>\n      <td>...</td>\n    </tr>\n    <tr>\n      <th>2155</th>\n      <td>使命担当、数字防疫 ——太仓政企青年突击队在行动</td>\n      <td>发布人: 王晓晨</td>\n      <td>撰稿人: 王晓晨</td>\n      <td>为了充分发挥抗“疫”先锋作用，以最快的速度响应落实政府防疫需求，确保疫情防疫工作有效...</td>\n      <td>周一, 02/21/2022 - 17:25</td>\n      <td>新闻类别: 党建</td>\n      <td>/node/4147</td>\n    </tr>\n    <tr>\n      <th>2156</th>\n      <td>双胜利 站出来 冲在前—— 公众条线稳发展保产保收</td>\n      <td>发布人: 陆瑶雯</td>\n      <td>撰稿人: 陆瑶雯</td>\n      <td>面对疫情严峻形势，为保发展产能不掉队，渠道运营中心在公司党委带领下，快速响应、调整战略...</td>\n      <td>周一, 02/21/2022 - 17:48</td>\n      <td>新闻类别: 会议活动（内部）</td>\n      <td>/node/4148</td>\n    </tr>\n    <tr>\n      <th>2157</th>\n      <td>“疫情就是命令，防控就是责任”苏州联通职能线党员青年突击队在行动</td>\n      <td>发布人: 吴荣昌</td>\n      <td>撰稿人: 吴荣昌</td>\n      <td>2月13日以来，苏州市突发新冠肺炎疫情，防控形势严峻复杂。为迅速落实市委市政府对疫情防控工作...</td>\n      <td>周一, 02/21/2022 - 17:51</td>\n      <td>新闻类别: 党建</td>\n      <td>/node/4149</td>\n    </tr>\n    <tr>\n      <th>2158</th>\n      <td>张家港分公司召开第三支队伍 “外呼突击队”工作部署会</td>\n      <td>发布人: 陈莹</td>\n      <td>撰稿人: 陆惠</td>\n      <td>2月21日晚，张家港公司召开“外呼突击队”工作部署会，快速落实市分工作要求，部署疫情下价值...</td>\n      <td>周二, 02/22/2022 - 09:08</td>\n      <td>新闻类别: 会议活动（内部）</td>\n      <td>/node/4151</td>\n    </tr>\n    <tr>\n      <th>2159</th>\n      <td>不舍昼夜、抗疫有我—吴江联通松陵商企突击队</td>\n      <td>发布人: 李乃娟</td>\n      <td>撰稿人: 黄澜</td>\n      <td>自苏城此番疫情以来，吴江面临着严峻复杂的防疫形势，自2月14日凌晨疫情警报响起后，吴江松陵...</td>\n      <td>周二, 02/22/2022 - 10:13</td>\n      <td>新闻类别: 会议活动（外部）</td>\n      <td>/node/4152</td>\n    </tr>\n  </tbody>\n</table>\n<p>2160 rows × 7 columns</p>\n</div>"
     },
     "execution_count": 4,
     "metadata": {},
     "output_type": "execute_result"
    }
   ],
   "source": [
    "news_detail_df"
   ],
   "metadata": {
    "collapsed": false,
    "pycharm": {
     "name": "#%%\n"
    }
   }
  },
  {
   "cell_type": "code",
   "execution_count": 15,
   "outputs": [
    {
     "data": {
      "text/plain": "['/node/84',\n '/node/85',\n '/node/87',\n '/node/103',\n '/node/106',\n '/node/115',\n '/node/116',\n '/node/117',\n '/node/118',\n '/node/121',\n '/node/122',\n '/node/138',\n '/node/140',\n '/node/143',\n '/node/147',\n '/node/149',\n '/node/152',\n '/node/153',\n '/node/156',\n '/node/159',\n '/node/160',\n '/node/165',\n '/node/167',\n '/node/178',\n '/node/175',\n '/node/176',\n '/node/177',\n '/node/179',\n '/node/181',\n '/node/184',\n '/node/185',\n '/node/186',\n '/node/187',\n '/node/189',\n '/node/190',\n '/node/191',\n '/node/192',\n '/node/193',\n '/node/194',\n '/node/195',\n '/node/196',\n '/node/199',\n '/node/200',\n '/node/203',\n '/node/206',\n '/node/209',\n '/node/210',\n '/node/211',\n '/node/214',\n '/node/215',\n '/node/216',\n '/node/226',\n '/node/227',\n '/node/228',\n '/node/230',\n '/node/236',\n '/node/238',\n '/node/239',\n '/node/240',\n '/node/241',\n '/node/246',\n '/node/248',\n '/node/249',\n '/node/250',\n '/node/251',\n '/node/252',\n '/node/254',\n '/node/260',\n '/node/266',\n '/node/271',\n '/node/272',\n '/node/274',\n '/node/276',\n '/node/280',\n '/node/281',\n '/node/282',\n '/node/287',\n '/node/288',\n '/node/289',\n '/node/290',\n '/node/291',\n '/node/293',\n '/node/294',\n '/node/295',\n '/node/296',\n '/node/301',\n '/node/300',\n '/node/304',\n '/node/305',\n '/node/309',\n '/node/308',\n '/node/310',\n '/node/311',\n '/node/312',\n '/node/313',\n '/node/314',\n '/node/316',\n '/node/322',\n '/node/326',\n '/node/331',\n '/node/334',\n '/node/335',\n '/node/336',\n '/node/338',\n '/node/340',\n '/node/344',\n '/node/348',\n '/node/349',\n '/node/353',\n '/node/354',\n '/node/357',\n '/node/359',\n '/node/360',\n '/node/361',\n '/node/363',\n '/node/366',\n '/node/367',\n '/node/370',\n '/node/368',\n '/node/371',\n '/node/375',\n '/node/376',\n '/node/378',\n '/node/379',\n '/node/381',\n '/node/384',\n '/node/385',\n '/node/386',\n '/node/387',\n '/node/391',\n '/node/392',\n '/node/393',\n '/node/398',\n '/node/399',\n '/node/400',\n '/node/401',\n '/node/402',\n '/node/403',\n '/node/404',\n '/node/407',\n '/node/408',\n '/node/410',\n '/node/411',\n '/node/412',\n '/node/426',\n '/node/427',\n '/node/432',\n '/node/440',\n '/node/443',\n '/node/445',\n '/node/461',\n '/node/481',\n '/node/504',\n '/node/508',\n '/node/516',\n '/node/519',\n '/node/522',\n '/node/525',\n '/node/526',\n '/node/528',\n '/node/532',\n '/node/535',\n '/node/536',\n '/node/579',\n '/node/585',\n '/node/589',\n '/node/604',\n '/node/617',\n '/node/618',\n '/node/624',\n '/node/628',\n '/node/646',\n '/node/670',\n '/node/694',\n '/node/695',\n '/node/700',\n '/node/703',\n '/node/704',\n '/node/715',\n '/node/716',\n '/node/718',\n '/node/719',\n '/node/720',\n '/node/725',\n '/node/726',\n '/node/761',\n '/node/767',\n '/node/773',\n '/node/774',\n '/node/784',\n '/node/808',\n '/node/810',\n '/node/812',\n '/node/813',\n '/node/818',\n '/node/869',\n '/node/870',\n '/node/871',\n '/node/913',\n '/node/915',\n '/node/927',\n '/node/953',\n '/node/965',\n '/node/971',\n '/node/972',\n '/node/1014',\n '/node/1016',\n '/node/1017',\n '/node/1018',\n '/node/1019',\n '/node/1023',\n '/node/1025',\n '/node/1026',\n '/node/1029',\n '/node/1030',\n '/node/1031',\n '/node/1032',\n '/node/1033',\n '/node/1035',\n '/node/1037',\n '/node/1040',\n '/node/1042',\n '/node/1043',\n '/node/1054',\n '/node/1057',\n '/node/1064',\n '/node/1073',\n '/node/1074',\n '/node/1075',\n '/node/1076',\n '/node/1079',\n '/node/1080',\n '/node/1089',\n '/node/1090',\n '/node/1093',\n '/node/1095',\n '/node/1097',\n '/node/1099',\n '/node/1100',\n '/node/1101',\n '/node/1102',\n '/node/1103',\n '/node/1104',\n '/node/1109',\n '/node/1110',\n '/node/2964',\n '/node/1115',\n '/node/1122',\n '/node/1123',\n '/node/1125',\n '/node/1126',\n '/node/1127',\n '/node/1152',\n '/node/1154',\n '/node/1155',\n '/node/1156',\n '/node/1159',\n '/node/1161',\n '/node/1162',\n '/node/1163',\n '/node/1165',\n '/node/1170',\n '/node/1173',\n '/node/1177',\n '/node/1179',\n '/node/1180',\n '/node/1181',\n '/node/1182',\n '/node/1186',\n '/node/1189',\n '/node/1191',\n '/node/1192',\n '/node/1193',\n '/node/1195',\n '/node/1197',\n '/node/1196',\n '/node/1199',\n '/node/1200',\n '/node/1201',\n '/node/1297',\n '/node/1202',\n '/node/1203',\n '/node/1204',\n '/node/1205',\n '/node/1206',\n '/node/1207',\n '/node/1208',\n '/node/1210',\n '/node/1211',\n '/node/1214',\n '/node/1215',\n '/node/1217',\n '/node/1218',\n '/node/1219',\n '/node/1220',\n '/node/1221',\n '/node/1222',\n '/node/1223',\n '/node/1224',\n '/node/1225',\n '/node/1227',\n '/node/1228',\n '/node/1229',\n '/node/1230',\n '/node/1231',\n '/node/1232',\n '/node/1234',\n '/node/1235',\n '/node/1236',\n '/node/1238',\n '/node/1237',\n '/node/1239',\n '/node/1240',\n '/node/1241',\n '/node/1242',\n '/node/1245',\n '/node/1247',\n '/node/1248',\n '/node/1249',\n '/node/1251',\n '/node/1250',\n '/node/1256',\n '/node/1255',\n '/node/1258',\n '/node/1257',\n '/node/1259',\n '/node/1260',\n '/node/1261',\n '/node/1262',\n '/node/1263',\n '/node/1264',\n '/node/1265',\n '/node/1267',\n '/node/1268',\n '/node/1269',\n '/node/1270',\n '/node/1274',\n '/node/1277',\n '/node/1275',\n '/node/1278',\n '/node/1282',\n '/node/1279',\n '/node/1280',\n '/node/1281',\n '/node/1284',\n '/node/1287',\n '/node/1288',\n '/node/1289',\n '/node/1290',\n '/node/1291',\n '/node/1292',\n '/node/1295',\n '/node/1296',\n '/node/1298',\n '/node/1299',\n '/node/1300',\n '/node/1301',\n '/node/1302',\n '/node/1303',\n '/node/1305',\n '/node/1306',\n '/node/1307',\n '/node/1309',\n '/node/1310',\n '/node/1311',\n '/node/1313',\n '/node/1314',\n '/node/1317',\n '/node/1319',\n '/node/1320',\n '/node/1321',\n '/node/1323',\n '/node/1325',\n '/node/1327',\n '/node/1328',\n '/node/1330',\n '/node/1331',\n '/node/1332',\n '/node/1334',\n '/node/1336',\n '/node/1335',\n '/node/1337',\n '/node/1338',\n '/node/1339',\n '/node/1340',\n '/node/1341',\n '/node/1342',\n '/node/1344',\n '/node/1346',\n '/node/1347',\n '/node/1348',\n '/node/1349',\n '/node/1350',\n '/node/1351',\n '/node/1352',\n '/node/1354',\n '/node/1355',\n '/node/1356',\n '/node/1357',\n '/node/1358',\n '/node/1359',\n '/node/1360',\n '/node/1361',\n '/node/2441',\n '/node/1363',\n '/node/1366',\n '/node/1370',\n '/node/1369',\n '/node/1371',\n '/node/1696',\n '/node/1373',\n '/node/1374',\n '/node/1375',\n '/node/1377',\n '/node/1379',\n '/node/1380',\n '/node/1381',\n '/node/1382',\n '/node/1385',\n '/node/1384',\n '/node/1386',\n '/node/1388',\n '/node/1387',\n '/node/1389',\n '/node/1391',\n '/node/1393',\n '/node/1395',\n '/node/1396',\n '/node/1397',\n '/node/1399',\n '/node/1398',\n '/node/1400',\n '/node/1401',\n '/node/1403',\n '/node/1404',\n '/node/1405',\n '/node/1406',\n '/node/1407',\n '/node/1408',\n '/node/1409',\n '/node/1412',\n '/node/1413',\n '/node/1415',\n '/node/1416',\n '/node/1417',\n '/node/1418',\n '/node/1419',\n '/node/1420',\n '/node/1422',\n '/node/2441',\n '/node/1426',\n '/node/1427',\n '/node/1428',\n '/node/1431',\n '/node/1433',\n '/node/1434',\n '/node/1435',\n '/node/1445',\n '/node/1446',\n '/node/1447',\n '/node/1448',\n '/node/1451',\n '/node/1452',\n '/node/1453',\n '/node/1454',\n '/node/1455',\n '/node/1457',\n '/node/1458',\n '/node/1459',\n '/node/1460',\n '/node/1462',\n '/node/1463',\n '/node/1466',\n '/node/1467',\n '/node/1482',\n '/node/1483',\n '/node/1484',\n '/node/1485',\n '/node/1486',\n '/node/1487',\n '/node/1489',\n '/node/1491',\n '/node/1493',\n '/node/1495',\n '/node/1496',\n '/node/1497',\n '/node/1498',\n '/node/1499',\n '/node/1500',\n '/node/1501',\n '/node/1502',\n '/node/1503',\n '/node/1504',\n '/node/1505',\n '/node/1506',\n '/node/1508',\n '/node/1509',\n '/node/1510',\n '/node/1511',\n '/node/1512',\n '/node/1514',\n '/node/1515',\n '/node/1517',\n '/node/1519',\n '/node/1522',\n '/node/1523',\n '/node/1524',\n '/node/1525',\n '/node/1527',\n '/node/1528',\n '/node/1531',\n '/node/2441',\n '/node/1537',\n '/node/1538',\n '/node/1540',\n '/node/1541',\n '/node/1542',\n '/node/1544',\n '/node/1545',\n '/node/1548',\n '/node/1550',\n '/node/1551',\n '/node/1552',\n '/node/1554',\n '/node/1556',\n '/node/1558',\n '/node/1559',\n '/node/1560',\n '/node/1561',\n '/node/1562',\n '/node/1564',\n '/node/1567',\n '/node/1569',\n '/node/1574',\n '/node/1575',\n '/node/1577',\n '/node/1580',\n '/node/1585',\n '/node/1586',\n '/node/1587',\n '/node/1588',\n '/node/1593',\n '/node/1595',\n '/node/1596',\n '/node/1597',\n '/node/1598',\n '/node/1599',\n '/node/1602',\n '/node/1605',\n '/node/1607',\n '/node/1608',\n '/node/1610',\n '/node/1611',\n '/node/1612',\n '/node/1613',\n '/node/1616',\n '/node/1617',\n '/node/1618',\n '/node/1623',\n '/node/1624',\n '/node/1625',\n '/node/1626',\n '/node/1627',\n '/node/1629',\n '/node/1637',\n '/node/1640',\n '/node/1645',\n '/node/1644',\n '/node/1648',\n '/node/1650',\n '/node/1651',\n '/node/1652',\n '/node/1653',\n '/node/1655',\n '/node/1656',\n '/node/1658',\n '/node/1661',\n '/node/1674',\n '/node/1675',\n '/node/1676',\n '/node/1677',\n '/node/1679',\n '/node/1680',\n '/node/1682',\n '/node/1684',\n '/node/1686',\n '/node/1687',\n '/node/1688',\n '/node/1689',\n '/node/1692',\n '/node/1693',\n '/node/1694',\n '/node/1696',\n '/node/1701',\n '/node/1702',\n '/node/1703',\n '/node/1704',\n '/node/1708',\n '/node/1706',\n '/node/1709',\n '/node/1710',\n '/node/1711',\n '/node/1712',\n '/node/1713',\n '/node/1719',\n '/node/1720',\n '/node/1721',\n '/node/1723',\n '/node/1724',\n '/node/1725',\n '/node/1727',\n '/node/1729',\n '/node/1731',\n '/node/1736',\n '/node/1737',\n '/node/1739',\n '/node/1740',\n '/node/1741',\n '/node/1743',\n '/node/1744',\n '/node/1745',\n '/node/1733',\n '/node/1746',\n '/node/1750',\n '/node/1751',\n '/node/1753',\n '/node/1754',\n '/node/1756',\n '/node/1755',\n '/node/1757',\n '/node/1760',\n '/node/1762',\n '/node/1763',\n '/node/1765',\n '/node/1769',\n '/node/1770',\n '/node/1772',\n '/node/1773',\n '/node/1774',\n '/node/1775',\n '/node/1776',\n '/node/1777',\n '/node/1778',\n '/node/1780',\n '/node/1782',\n '/node/1784',\n '/node/1786',\n '/node/1788',\n '/node/1789',\n '/node/1790',\n '/node/1791',\n '/node/1792',\n '/node/1793',\n '/node/1795',\n '/node/1794',\n '/node/1798',\n '/node/1799',\n '/node/1800',\n '/node/1801',\n '/node/1804',\n '/node/1814',\n '/node/1815',\n '/node/1816',\n '/node/1817',\n '/node/1819',\n '/node/1820',\n '/node/1822',\n '/node/1823',\n '/node/1826',\n '/node/1827',\n '/node/1828',\n '/node/1829',\n '/node/1831',\n '/node/1833',\n '/node/1835',\n '/node/1837',\n '/node/1839',\n '/node/1841',\n '/node/1843',\n '/node/1842',\n '/node/1844',\n '/node/1845',\n '/node/1846',\n '/node/1847',\n '/node/1848',\n '/node/1850',\n '/node/1851',\n '/node/1852',\n '/node/1854',\n '/node/1856',\n '/node/1858',\n '/node/1860',\n '/node/1862',\n '/node/1863',\n '/node/1864',\n '/node/1866',\n '/node/1867',\n '/node/1869',\n '/node/1870',\n '/node/1872',\n '/node/1873',\n '/node/1874',\n '/node/1875',\n '/node/1876',\n '/node/1877',\n '/node/1878',\n '/node/1879',\n '/node/1881',\n '/node/1882',\n '/node/1885',\n '/node/1886',\n '/node/1888',\n '/node/1889',\n '/node/1890',\n '/node/1892',\n '/node/1893',\n '/node/1894',\n '/node/1897',\n '/node/1896',\n '/node/1898',\n '/node/1899',\n '/node/1900',\n '/node/1901',\n '/node/1903',\n '/node/1905',\n '/node/1906',\n '/node/1907',\n '/node/1908',\n '/node/1910',\n '/node/1912',\n '/node/1913',\n '/node/1914',\n '/node/1916',\n '/node/1917',\n '/node/1918',\n '/node/1924',\n '/node/1925',\n '/node/1927',\n '/node/1928',\n '/node/1929',\n '/node/1930',\n '/node/1931',\n '/node/2441',\n '/node/1935',\n '/node/1937',\n '/node/1939',\n '/node/1940',\n '/node/1942',\n '/node/1943',\n '/node/1944',\n '/node/1946',\n '/node/1947',\n '/node/1948',\n '/node/1950',\n '/node/1951',\n '/node/1953',\n '/node/1954',\n '/node/1956',\n '/node/1957',\n '/node/1958',\n '/node/1960',\n '/node/1962',\n '/node/1963',\n '/node/1967',\n '/node/1965',\n '/node/1968',\n '/node/1970',\n '/node/1972',\n '/node/1973',\n '/node/1974',\n '/node/1976',\n '/node/1987',\n '/node/1989',\n '/node/1990',\n '/node/2909',\n '/node/1999',\n '/node/2001',\n '/node/2004',\n '/node/2005',\n '/node/2008',\n '/node/2006',\n '/node/2007',\n '/node/2009',\n '/node/2011',\n '/node/2013',\n '/node/2014',\n '/node/2015',\n '/node/2017',\n '/node/2020',\n '/node/2021',\n '/node/2023',\n '/node/2025',\n '/node/2026',\n '/node/2028',\n '/node/2029',\n '/node/2030',\n '/node/2031',\n '/node/2033',\n '/node/2034',\n '/node/2035',\n '/node/2036',\n '/node/2037',\n '/node/2038',\n '/node/2041',\n '/node/2045',\n '/node/2048',\n '/node/2050',\n '/node/2051',\n '/node/2052',\n '/node/2056',\n '/node/2057',\n '/node/2058',\n '/node/2059',\n '/node/2060',\n '/node/2063',\n '/node/2441',\n '/node/2065',\n '/node/2067',\n '/node/2068',\n '/node/2069',\n '/node/2070',\n '/node/2071',\n '/node/2074',\n '/node/2077',\n '/node/2078',\n '/node/2079',\n '/node/2080',\n '/node/2081',\n '/node/2083',\n '/node/2084',\n '/node/2085',\n '/node/2086',\n '/node/2089',\n '/node/2091',\n '/node/2092',\n '/node/2093',\n '/node/2094',\n '/node/2095',\n '/node/2098',\n '/node/2101',\n '/node/2102',\n '/node/2103',\n '/node/2105',\n '/node/2107',\n '/node/2108',\n '/node/2109',\n '/node/2110',\n '/node/2111',\n '/node/2113',\n '/node/2114',\n '/node/2116',\n '/node/2120',\n '/node/2121',\n '/node/2124',\n '/node/2138',\n '/node/2139',\n '/node/2142',\n '/node/2143',\n '/node/2146',\n '/node/2147',\n '/node/2149',\n '/node/2150',\n '/node/2151',\n '/node/2152',\n '/node/2153',\n '/node/2156',\n '/node/2157',\n '/node/2160',\n '/node/2162',\n '/node/2163',\n '/node/2165',\n '/node/2166',\n '/node/2167',\n '/node/2170',\n '/node/2171',\n '/node/2172',\n '/node/2174',\n '/node/2175',\n '/node/2176',\n '/node/2181',\n '/node/2185',\n '/node/2186',\n '/node/2441',\n '/node/2188',\n '/node/2189',\n '/node/2190',\n '/node/2191',\n '/node/2192',\n '/node/2193',\n '/node/2194',\n '/node/2196',\n '/node/2200',\n '/node/2198',\n '/node/2205',\n '/node/2206',\n '/node/2207',\n '/node/2208',\n '/node/2209',\n '/node/2210',\n '/node/2212',\n '/node/2213',\n '/node/2214',\n '/node/2215',\n '/node/2217',\n '/node/2219',\n '/node/2220',\n '/node/2222',\n '/node/2223',\n '/node/2224',\n '/node/2225',\n '/node/2227',\n '/node/2228',\n '/node/2230',\n '/node/2231',\n '/node/2232',\n '/node/2238',\n '/node/2240',\n '/node/2241',\n '/node/2243',\n '/node/2244',\n '/node/2245',\n '/node/2246',\n '/node/2247',\n '/node/2249',\n '/node/2250',\n '/node/2251',\n '/node/2252',\n '/node/2253',\n '/node/2389',\n '/node/2256',\n '/node/2258',\n '/node/2260',\n '/node/2261',\n '/node/2263',\n '/node/2264',\n '/node/2266',\n '/node/2267',\n '/node/2268',\n '/node/2270',\n '/node/2272',\n '/node/2273',\n '/node/2277',\n '/node/2279',\n '/node/2280',\n '/node/2282',\n '/node/2284',\n '/node/2285',\n '/node/2286',\n '/node/2287',\n '/node/2288',\n '/node/2289',\n '/node/2291',\n '/node/2292',\n '/node/2293',\n '/node/2294',\n '/node/2296',\n '/node/2298',\n '/node/2299',\n '/node/2300',\n '/node/2303',\n '/node/2304',\n '/node/2305',\n '/node/2308',\n '/node/2309',\n '/node/2310',\n '/node/2313',\n '/node/2314',\n '/node/2315',\n '/node/2317',\n '/node/2318',\n '/node/2319',\n '/node/2321',\n '/node/2322',\n '/node/2323',\n '/node/2324',\n '/node/2327',\n '/node/2329',\n '/node/2330',\n '/node/2331',\n '/node/2334',\n '/node/2335',\n '/node/2336',\n '/node/2337',\n '/node/2338',\n '/node/2340',\n '/node/2341',\n '/node/2344',\n '/node/2346',\n '/node/2347',\n '/node/2348',\n '/node/2349',\n '/node/2350',\n '/node/2351',\n '/node/2353',\n '/node/2352',\n '/node/2356',\n '/node/2358',\n '/node/2359',\n '/node/2360',\n '/node/2361',\n ...]"
     },
     "execution_count": 15,
     "metadata": {},
     "output_type": "execute_result"
    }
   ],
   "source": [
    "news_detail_df_link"
   ],
   "metadata": {
    "collapsed": false,
    "pycharm": {
     "name": "#%%\n"
    }
   }
  },
  {
   "cell_type": "code",
   "execution_count": 16,
   "outputs": [],
   "source": [
    "#read existed news link\n",
    "df_news_ = pd.read_csv('result.csv')\n",
    "links_exist = df_news_['news link'].values.tolist()"
   ],
   "metadata": {
    "collapsed": false,
    "pycharm": {
     "name": "#%%\n"
    }
   }
  },
  {
   "cell_type": "code",
   "execution_count": 17,
   "outputs": [
    {
     "data": {
      "text/plain": "['/node/3866',\n '/node/3865',\n '/node/3863',\n '/node/3860',\n '/node/3861',\n '/node/3859',\n '/node/3858',\n '/node/3857',\n '/node/3856',\n '/node/3854',\n '/node/3852',\n '/node/3851',\n '/node/3849',\n '/node/3847',\n '/node/3846',\n '/node/3845',\n '/node/3844',\n '/node/3842',\n '/node/3841',\n '/node/3840',\n '/node/3839',\n '/node/3838',\n '/node/3837',\n '/node/3835',\n '/node/3834',\n '/node/3830',\n '/node/3829',\n '/node/3827',\n '/node/3826',\n '/node/3825',\n '/node/3824',\n '/node/3823',\n '/node/3821',\n '/node/3818',\n '/node/3816',\n '/node/3815',\n '/node/3814',\n '/node/3812',\n '/node/3809',\n '/node/3808',\n '/node/3806',\n '/node/3805',\n '/node/3803',\n '/node/3802',\n '/node/3799',\n '/node/3798',\n '/node/3797',\n '/node/3796',\n '/node/3794',\n '/node/3792',\n '/node/3791',\n '/node/3790',\n '/node/3789',\n '/node/3787',\n '/node/3785',\n '/node/3783',\n '/node/3782',\n '/node/3781',\n '/node/3780',\n '/node/3778',\n '/node/3776',\n '/node/3775',\n '/node/3773',\n '/node/3772',\n '/node/3771',\n '/node/3768',\n '/node/3766',\n '/node/3759',\n '/node/3762',\n '/node/3758',\n '/node/3756',\n '/node/3755',\n '/node/3753',\n '/node/3752',\n '/node/3750',\n '/node/3748',\n '/node/3746',\n '/node/3745',\n '/node/3744',\n '/node/3743',\n '/node/3742',\n '/node/3740',\n '/node/3741',\n '/node/3739',\n '/node/3738',\n '/node/3736',\n '/node/3734',\n '/node/3731',\n '/node/3730',\n '/node/3728',\n '/node/3729',\n '/node/3727',\n '/node/3726',\n '/node/3724',\n '/node/3722',\n '/node/3721',\n '/node/3717',\n '/node/3716',\n '/node/3715',\n '/node/3714',\n '/node/3713',\n '/node/3712',\n '/node/3711',\n '/node/3710',\n '/node/3709',\n '/node/3705',\n '/node/3707',\n '/node/3704',\n '/node/3701',\n '/node/3700',\n '/node/3697',\n '/node/3696',\n '/node/3694',\n '/node/3693',\n '/node/3692',\n '/node/3686',\n '/node/3685',\n '/node/3684',\n '/node/3681',\n '/node/3680',\n '/node/3679',\n '/node/3677',\n '/node/3676',\n '/node/3675',\n '/node/3674',\n '/node/3673',\n '/node/3672',\n '/node/3671',\n '/node/3669',\n '/node/3668',\n '/node/3667',\n '/node/3666',\n '/node/3664',\n '/node/3663',\n '/node/3661',\n '/node/3660',\n '/node/3659',\n '/node/3658',\n '/node/3657',\n '/node/3656',\n '/node/3653',\n '/node/3652',\n '/node/3650',\n '/node/3648',\n '/node/3647',\n '/node/3646',\n '/node/3644',\n '/node/3643',\n '/node/3641',\n '/node/3639',\n '/node/3638',\n '/node/3635',\n '/node/3634',\n '/node/3632',\n '/node/3630',\n '/node/3629',\n '/node/3628',\n '/node/3627',\n '/node/3626',\n '/node/3625',\n '/node/3624',\n '/node/3623',\n '/node/3622',\n '/node/3620',\n '/node/3619',\n '/node/3618',\n '/node/3617',\n '/node/3616',\n '/node/3615',\n '/node/3614',\n '/node/3613',\n '/node/3605',\n '/node/3604',\n '/node/3602',\n '/node/3601',\n '/node/3600',\n '/node/3599',\n '/node/3597',\n '/node/3596',\n '/node/3595',\n '/node/3593',\n '/node/3592',\n '/node/3591',\n '/node/3589',\n '/node/3588',\n '/node/3587',\n '/node/3586',\n '/node/3585',\n '/node/3584',\n '/node/3581',\n '/node/3580',\n '/node/3579',\n '/node/3578',\n '/node/3576',\n '/node/3573',\n '/node/3572',\n '/node/3571',\n '/node/3569',\n '/node/3568',\n '/node/3567',\n '/node/3563',\n '/node/3562',\n '/node/3559',\n '/node/3557',\n '/node/3556',\n '/node/3555',\n '/node/3550',\n '/node/3548',\n '/node/3545',\n '/node/3544',\n '/node/3543',\n '/node/3541',\n '/node/3540',\n '/node/3538',\n '/node/3537',\n '/node/3535',\n '/node/3534',\n '/node/3532',\n '/node/3530',\n '/node/3529',\n '/node/3528',\n '/node/3527',\n '/node/3525',\n '/node/3524',\n '/node/3523',\n '/node/3522',\n '/node/3521',\n '/node/3520',\n '/node/3519',\n '/node/3518',\n '/node/3517',\n '/node/3516',\n '/node/3515',\n '/node/3514',\n '/node/3513',\n '/node/3510',\n '/node/3509',\n '/node/3508',\n '/node/3507',\n '/node/3506',\n '/node/3505',\n '/node/3504',\n '/node/3502',\n '/node/3501',\n '/node/3499',\n '/node/3497',\n '/node/3496',\n '/node/3495',\n '/node/3494',\n '/node/3493',\n '/node/3492',\n '/node/3491',\n '/node/3490',\n '/node/3488',\n '/node/3487',\n '/node/3486',\n '/node/3485',\n '/node/3470',\n '/node/3468',\n '/node/3467',\n '/node/3466',\n '/node/3465',\n '/node/3464',\n '/node/3463',\n '/node/3462',\n '/node/3459',\n '/node/3458',\n '/node/3456',\n '/node/3455',\n '/node/3454',\n '/node/3453',\n '/node/3452',\n '/node/3448',\n '/node/3449',\n '/node/3446',\n '/node/3444',\n '/node/3443',\n '/node/3442',\n '/node/3441',\n '/node/3440',\n '/node/3439',\n '/node/3438',\n '/node/3436',\n '/node/3435',\n '/node/3434',\n '/node/3432',\n '/node/3430',\n '/node/3429',\n '/node/3428',\n '/node/3420',\n '/node/3419',\n '/node/3418',\n '/node/3415',\n '/node/3414',\n '/node/3413',\n '/node/3412',\n '/node/3411',\n '/node/3410',\n '/node/3409',\n '/node/3408',\n '/node/3407',\n '/node/3406',\n '/node/3404',\n '/node/3402',\n '/node/3400',\n '/node/3398',\n '/node/3396',\n '/node/3395',\n '/node/3394',\n '/node/3392',\n '/node/3390',\n '/node/3389',\n '/node/3388',\n '/node/3385',\n '/node/3386',\n '/node/3382',\n '/node/3380',\n '/node/3378',\n '/node/3377',\n '/node/3376',\n '/node/3375',\n '/node/3374',\n '/node/3373',\n '/node/3372',\n '/node/3371',\n '/node/3368',\n '/node/3365',\n '/node/3364',\n '/node/3363',\n '/node/3362',\n '/node/3360',\n '/node/3359',\n '/node/3358',\n '/node/3357',\n '/node/3354',\n '/node/3351',\n '/node/3350',\n '/node/3349',\n '/node/3346',\n '/node/3345',\n '/node/3344',\n '/node/3342',\n '/node/3341',\n '/node/3340',\n '/node/3339',\n '/node/3338',\n '/node/3336',\n '/node/3334',\n '/node/3332',\n '/node/3330',\n '/node/3329',\n '/node/3328',\n '/node/3326',\n '/node/3325',\n '/node/3324',\n '/node/3323',\n '/node/3321',\n '/node/3319',\n '/node/3317',\n '/node/3316',\n '/node/3315',\n '/node/3314',\n '/node/3312',\n '/node/3311',\n '/node/3308',\n '/node/3307',\n '/node/3306',\n '/node/3305',\n '/node/3304',\n '/node/3303',\n '/node/3301',\n '/node/3298',\n '/node/3297',\n '/node/3296',\n '/node/3295',\n '/node/3294',\n '/node/3292',\n '/node/3291',\n '/node/3290',\n '/node/3289',\n '/node/3288',\n '/node/3287',\n '/node/3286',\n '/node/3284',\n '/node/3283',\n '/node/3282',\n '/node/3280',\n '/node/3278',\n '/node/3277',\n '/node/3276',\n '/node/3275',\n '/node/3273',\n '/node/3272',\n '/node/3270',\n '/node/3267',\n '/node/3266',\n '/node/3264',\n '/node/3261',\n '/node/3256',\n '/node/3248',\n '/node/3218',\n '/node/3216',\n '/node/3213',\n '/node/3212',\n '/node/3211',\n '/node/3206',\n '/node/3204',\n '/node/3199',\n '/node/3196',\n '/node/3195',\n '/node/3190',\n '/node/3187',\n '/node/3186',\n '/node/3183',\n '/node/3181',\n '/node/3177',\n '/node/3176',\n '/node/3174',\n '/node/3173',\n '/node/3169',\n '/node/3168',\n '/node/3166',\n '/node/3164',\n '/node/3162',\n '/node/3160',\n '/node/3158',\n '/node/3157',\n '/node/3152',\n '/node/3151',\n '/node/3147',\n '/node/3146',\n '/node/3145',\n '/node/3143',\n '/node/3140',\n '/node/3136',\n '/node/3134',\n '/node/3128',\n '/node/3127',\n '/node/3126',\n '/node/3124',\n '/node/3120',\n '/node/3116',\n '/node/3113',\n '/node/3112',\n '/node/3110',\n '/node/3109',\n '/node/3108',\n '/node/3105',\n '/node/3103',\n '/node/3102',\n '/node/3101',\n '/node/3098',\n '/node/3097',\n '/node/3096',\n '/node/3095',\n '/node/3092',\n '/node/3091',\n '/node/3089',\n '/node/3088',\n '/node/3086',\n '/node/3085',\n '/node/3079',\n '/node/3078',\n '/node/3076',\n '/node/3077',\n '/node/3075',\n '/node/3073',\n '/node/3072',\n '/node/3070',\n '/node/3068',\n '/node/3067',\n '/node/3066',\n '/node/3058',\n '/node/3056',\n '/node/3055',\n '/node/3054',\n '/node/3052',\n '/node/3051',\n '/node/3050',\n '/node/3049',\n '/node/3048',\n '/node/3045',\n '/node/3043',\n '/node/3040',\n '/node/3039',\n '/node/3037',\n '/node/3036',\n '/node/3035',\n '/node/3034',\n '/node/3033',\n '/node/3031',\n '/node/3030',\n '/node/3028',\n '/node/3027',\n '/node/3026',\n '/node/3024',\n '/node/3015',\n '/node/3014',\n '/node/3013',\n '/node/3012',\n '/node/3011',\n '/node/3010',\n '/node/3009',\n '/node/3006',\n '/node/3005',\n '/node/3004',\n '/node/3002',\n '/node/3001',\n '/node/2999',\n '/node/2998',\n '/node/2997',\n '/node/2994',\n '/node/2993',\n '/node/2992',\n '/node/2991',\n '/node/2989',\n '/node/2988',\n '/node/2987',\n '/node/2986',\n '/node/2985',\n '/node/2984',\n '/node/2983',\n '/node/2982',\n '/node/2979',\n '/node/2977',\n '/node/2976',\n '/node/2974',\n '/node/2972',\n '/node/2967',\n '/node/2965',\n '/node/2964',\n '/node/2962',\n '/node/2961',\n '/node/2960',\n '/node/2959',\n '/node/2958',\n '/node/2952',\n '/node/2951',\n '/node/2950',\n '/node/2949',\n '/node/2947',\n '/node/2946',\n '/node/2944',\n '/node/2945',\n '/node/2943',\n '/node/2942',\n '/node/2941',\n '/node/2940',\n '/node/2939',\n '/node/2935',\n '/node/2934',\n '/node/2932',\n '/node/2931',\n '/node/2930',\n '/node/2928',\n '/node/2926',\n '/node/2925',\n '/node/2924',\n '/node/2923',\n '/node/2922',\n '/node/2921',\n '/node/2919',\n '/node/2916',\n '/node/2915',\n '/node/2914',\n '/node/2912',\n '/node/2911',\n '/node/2910',\n '/node/2909',\n '/node/2908',\n '/node/2906',\n '/node/2905',\n '/node/2903',\n '/node/2900',\n '/node/2901',\n '/node/2899',\n '/node/2895',\n '/node/2894',\n '/node/2893',\n '/node/2892',\n '/node/2890',\n '/node/2889',\n '/node/2887',\n '/node/2886',\n '/node/2885',\n '/node/2884',\n '/node/2883',\n '/node/2882',\n '/node/2880',\n '/node/2879',\n '/node/2876',\n '/node/2875',\n '/node/2874',\n '/node/2874',\n '/node/2873',\n '/node/2872',\n '/node/2869',\n '/node/2867',\n '/node/2866',\n '/node/2863',\n '/node/2861',\n '/node/2859',\n '/node/2856',\n '/node/2855',\n '/node/2854',\n '/node/2853',\n '/node/2852',\n '/node/2851',\n '/node/2850',\n '/node/2848',\n '/node/2847',\n '/node/2845',\n '/node/2844',\n '/node/2843',\n '/node/2842',\n '/node/2841',\n '/node/2840',\n '/node/2839',\n '/node/2837',\n '/node/2836',\n '/node/2835',\n '/node/2832',\n '/node/2830',\n '/node/2827',\n '/node/2824',\n '/node/2825',\n '/node/2823',\n '/node/2822',\n '/node/2820',\n '/node/2818',\n '/node/2817',\n '/node/2813',\n '/node/2812',\n '/node/2811',\n '/node/2806',\n '/node/2804',\n '/node/2803',\n '/node/2802',\n '/node/2801',\n '/node/2799',\n '/node/2800',\n '/node/2796',\n '/node/2795',\n '/node/2794',\n '/node/2793',\n '/node/2792',\n '/node/2791',\n '/node/2790',\n '/node/2788',\n '/node/2787',\n '/node/2784',\n '/node/2783',\n '/node/2782',\n '/node/2781',\n '/node/2780',\n '/node/2779',\n '/node/2775',\n '/node/2768',\n '/node/2767',\n '/node/2766',\n '/node/2764',\n '/node/2763',\n '/node/2762',\n '/node/2757',\n '/node/2756',\n '/node/2755',\n '/node/2754',\n '/node/2753',\n '/node/2751',\n '/node/2749',\n '/node/2748',\n '/node/2747',\n '/node/2746',\n '/node/2745',\n '/node/2743',\n '/node/2742',\n '/node/2740',\n '/node/2738',\n '/node/2737',\n '/node/2733',\n '/node/2732',\n '/node/2731',\n '/node/2730',\n '/node/2729',\n '/node/2728',\n '/node/2726',\n '/node/2725',\n '/node/2724',\n '/node/2723',\n '/node/2722',\n '/node/2721',\n '/node/2719',\n '/node/2717',\n '/node/2713',\n '/node/2712',\n '/node/2711',\n '/node/2710',\n '/node/2709',\n '/node/2708',\n '/node/2706',\n '/node/2700',\n '/node/2699',\n '/node/2697',\n '/node/2696',\n '/node/2695',\n '/node/2694',\n '/node/2692',\n '/node/2690',\n '/node/2689',\n '/node/2688',\n '/node/2687',\n '/node/2686',\n '/node/2685',\n '/node/2683',\n '/node/2684',\n '/node/2682',\n '/node/2680',\n '/node/2677',\n '/node/2678',\n '/node/2676',\n '/node/2674',\n '/node/2672',\n '/node/2671',\n '/node/2670',\n '/node/2669',\n '/node/2666',\n '/node/2665',\n '/node/2664',\n '/node/2662',\n '/node/2659',\n '/node/2658',\n '/node/2656',\n '/node/2653',\n '/node/2652',\n '/node/2651',\n '/node/2648',\n '/node/2645',\n '/node/2644',\n '/node/2642',\n '/node/2641',\n '/node/2640',\n '/node/2639',\n '/node/2638',\n '/node/2636',\n '/node/2635',\n '/node/2634',\n '/node/2631',\n '/node/2630',\n '/node/2629',\n '/node/2628',\n '/node/2627',\n '/node/2624',\n '/node/2623',\n '/node/2622',\n '/node/2621',\n '/node/2620',\n '/node/2619',\n '/node/2618',\n '/node/2617',\n '/node/2616',\n '/node/2615',\n '/node/2614',\n '/node/2613',\n '/node/2611',\n '/node/2610',\n '/node/2609',\n '/node/2608',\n '/node/2606',\n '/node/2603',\n '/node/2605',\n '/node/2601',\n '/node/2599',\n '/node/2600',\n '/node/2598',\n '/node/2597',\n '/node/2595',\n '/node/2592',\n '/node/2589',\n '/node/2587',\n '/node/2586',\n '/node/2584',\n '/node/2583',\n '/node/2582',\n '/node/2580',\n '/node/2579',\n '/node/2578',\n '/node/2577',\n '/node/2575',\n '/node/2574',\n '/node/2572',\n '/node/2570',\n '/node/2569',\n '/node/2568',\n '/node/2566',\n '/node/2565',\n '/node/2564',\n '/node/2563',\n '/node/2562',\n '/node/2560',\n '/node/2556',\n '/node/2555',\n '/node/2554',\n '/node/2553',\n '/node/2552',\n '/node/2551',\n '/node/2550',\n '/node/2548',\n '/node/2547',\n '/node/2545',\n '/node/2543',\n '/node/2541',\n '/node/2539',\n '/node/2537',\n '/node/2535',\n '/node/2534',\n '/node/2533',\n '/node/2532',\n '/node/2531',\n '/node/2529',\n '/node/2527',\n '/node/2526',\n '/node/2525',\n '/node/2523',\n '/node/2521',\n '/node/2520',\n '/node/2519',\n '/node/2518',\n '/node/2514',\n '/node/2513',\n '/node/2512',\n '/node/2509',\n '/node/2508',\n '/node/2507',\n '/node/2506',\n '/node/2505',\n '/node/2504',\n '/node/2503',\n '/node/2502',\n '/node/2500',\n '/node/2499',\n '/node/2498',\n '/node/2497',\n '/node/2490',\n '/node/2489',\n '/node/2488',\n '/node/2487',\n '/node/2486',\n '/node/2485',\n '/node/2484',\n '/node/2483',\n '/node/2480',\n '/node/2478',\n '/node/2477',\n '/node/2476',\n '/node/2475',\n '/node/2474',\n '/node/2473',\n '/node/2472',\n '/node/2471',\n '/node/2469',\n '/node/2468',\n '/node/2467',\n '/node/2465',\n '/node/2464',\n '/node/2463',\n '/node/2461',\n '/node/2462',\n '/node/2459',\n '/node/2458',\n '/node/2457',\n '/node/2455',\n '/node/2454',\n '/node/2452',\n '/node/2451',\n '/node/2450',\n '/node/2449',\n '/node/2448',\n '/node/2446',\n '/node/2445',\n '/node/2443',\n '/node/2442',\n '/node/2441',\n '/node/2438',\n '/node/2437',\n '/node/2435',\n '/node/2433',\n '/node/2432',\n '/node/2431',\n '/node/2428',\n '/node/2426',\n '/node/2425',\n '/node/2424',\n '/node/2423',\n '/node/2422',\n '/node/2420',\n '/node/2419',\n '/node/2417',\n '/node/2415',\n '/node/2414',\n '/node/2412',\n '/node/2411',\n '/node/2408',\n '/node/2407',\n '/node/2406',\n '/node/2404',\n '/node/2403',\n '/node/2402',\n '/node/2400',\n '/node/2399',\n '/node/2398',\n '/node/2397',\n '/node/2396',\n '/node/2394',\n '/node/2393',\n '/node/2389',\n '/node/2388',\n '/node/2386',\n '/node/2385',\n '/node/2384',\n '/node/2382',\n '/node/2381',\n '/node/2380',\n '/node/2379',\n '/node/2378',\n '/node/2377',\n '/node/2376',\n '/node/2375',\n '/node/2373',\n '/node/2372',\n '/node/2371',\n '/node/2369',\n '/node/2368',\n '/node/2367',\n '/node/2365',\n '/node/2361',\n '/node/2360',\n '/node/2359',\n '/node/2358',\n '/node/2356',\n '/node/2352',\n '/node/2353',\n '/node/2351',\n '/node/2350',\n '/node/2349',\n '/node/2348',\n '/node/2347',\n '/node/2346',\n '/node/2344',\n '/node/2341',\n '/node/2340',\n '/node/2338',\n '/node/2337',\n '/node/2336',\n '/node/2335',\n '/node/2334',\n '/node/2331',\n '/node/2330',\n '/node/2329',\n '/node/2327',\n '/node/2324',\n '/node/2323',\n '/node/2322',\n '/node/2321',\n '/node/2319',\n '/node/2318',\n '/node/2317',\n '/node/2315',\n '/node/2314',\n '/node/2313',\n '/node/2310',\n '/node/2309',\n '/node/2308',\n '/node/2305',\n '/node/2304',\n '/node/2303',\n '/node/2300',\n '/node/2299',\n '/node/2298',\n '/node/2296',\n '/node/2294',\n '/node/2293',\n '/node/2292',\n '/node/2291',\n '/node/2289',\n '/node/2288',\n '/node/2287',\n '/node/2286',\n '/node/2285',\n '/node/2284',\n '/node/2282',\n '/node/2280',\n '/node/2279',\n '/node/2277',\n '/node/2273',\n '/node/2272',\n '/node/2270',\n '/node/2268',\n '/node/2267',\n '/node/2266',\n '/node/2264',\n ...]"
     },
     "execution_count": 17,
     "metadata": {},
     "output_type": "execute_result"
    }
   ],
   "source": [
    "links_exist"
   ],
   "metadata": {
    "collapsed": false,
    "pycharm": {
     "name": "#%%\n"
    }
   }
  },
  {
   "cell_type": "code",
   "execution_count": 7,
   "outputs": [],
   "source": [
    "#function to return html data according to url link\n",
    "def return_html(num):\n",
    "    url = \"http://10.201.112.8\"+num\n",
    "    head = {'User-Agent': 'Mozilla/5.0 (Windows NT 10.0; Win64; x64; rv:93.0) Gecko/20100101 Firefox/93.0'}\n",
    "    request = urllib.request.Request(url=url, headers=head)\n",
    "    resp = urllib.request.urlopen(request)\n",
    "    html_data = resp.read().decode('utf-8')\n",
    "    return html_data"
   ],
   "metadata": {
    "collapsed": false,
    "pycharm": {
     "name": "#%%\n"
    }
   }
  },
  {
   "cell_type": "code",
   "execution_count": 8,
   "outputs": [],
   "source": [
    "#function to parse html to dataframe\n",
    "def parse_html(html, node_num):\n",
    "    news_title = []\n",
    "    news_publisher = []\n",
    "    news_writer = []\n",
    "    news_contents = []\n",
    "    news_date = []\n",
    "    news_category = []\n",
    "    soup = bs(html, 'html.parser')\n",
    "    news_title_ = soup.find_all('a', rel = 'bookmark')\n",
    "    news_title.append(news_title_[0].text.strip())\n",
    "    news_info_ = soup.find_all('div', class_ = 'article-create-date')\n",
    "    news_date_ = news_info_[0]\n",
    "    news_date_ = news_date_.find_all('span')[1]\n",
    "    for i in news_date_:\n",
    "        news_date.append(i.text)\n",
    "    news_publisher_ = news_info_[1].text.strip()\n",
    "    news_publisher_ = re.sub('\\xa0','', news_publisher_)\n",
    "    news_publisher.append(news_publisher_)\n",
    "    news_writer_ = news_info_[2].text.strip()\n",
    "    news_writer_ = re.sub('\\xa0','',news_writer_)\n",
    "    news_writer.append(news_writer_)\n",
    "    news_category_ = news_info_[3].text.strip()\n",
    "    news_category_ = re.sub('\\xa0','', news_category_)\n",
    "    news_category.append(news_category_)\n",
    "    news_content_ = soup.find_all('p')\n",
    "    for i in news_content_:\n",
    "        string_ = i.text\n",
    "        string_ = re.sub('\\xa0','',string_)\n",
    "        news_contents.append(string_)\n",
    "        news_content = ''.join(news_contents)\n",
    "    news_detail_dict = {'news title':news_title, 'news date': news_date, 'news publisher': news_publisher,\n",
    "                        'news writer': news_writer, 'news category': news_category, 'news content':news_content,\n",
    "                        'news link': node_num}\n",
    "    news_df = pd.DataFrame(news_detail_dict)\n",
    "    return news_df\n",
    "    # return news_detail_dict"
   ],
   "metadata": {
    "collapsed": false,
    "pycharm": {
     "name": "#%%\n"
    }
   }
  },
  {
   "cell_type": "code",
   "execution_count": 9,
   "outputs": [],
   "source": [
    "#function to download web images\n",
    "def get_img(html, node_num):\n",
    "    soup = bs(html, 'html.parser')\n",
    "    all_links = soup.find_all('img')\n",
    "    for i in range(2,len(all_links)):\n",
    "        url = 'http://10.201.112.8'+all_links[i]['src']\n",
    "        name = str(i-1)\n",
    "        path = \"D:/download_image\"+node_num+\"/\"\n",
    "        if not os.path.exists(path):\n",
    "            os.makedirs(path)\n",
    "        urllib.request.urlretrieve(url,path+name+\".jpg\")\n",
    "        print(\"-----downloading-----\"+node_num)\n",
    "    print(\"----------done--------------\")"
   ],
   "metadata": {
    "collapsed": false,
    "pycharm": {
     "name": "#%%\n"
    }
   }
  },
  {
   "cell_type": "code",
   "execution_count": 18,
   "outputs": [
    {
     "name": "stdout",
     "output_type": "stream",
     "text": [
      "-----downloading-----/node/3861\n",
      "-----downloading-----/node/3861\n",
      "----------done--------------\n",
      "-----downloading-----/node/3860\n",
      "----------done--------------\n",
      "----------done--------------\n",
      "-----downloading-----/node/3865\n",
      "----------done--------------\n",
      "-----downloading-----/node/3866\n",
      "----------done--------------\n"
     ]
    }
   ],
   "source": [
    "#main program\n",
    "for i in range(20, -1, -1):\n",
    "    html_data = return_html(links_exist[i])\n",
    "    df = parse_html(html_data, links_exist[i])\n",
    "    news_detail_df_new = df[~df['news link'].isin(news_detail_df_link)]\n",
    "    news_detail_df = pd.concat([news_detail_df, news_detail_df_new], axis=0)\n",
    "    if links_exist[i] not in news_detail_df_link:\n",
    "        get_img(html_data, links_exist[i])\n",
    "    sleeptime = random.randint(8,16)\n",
    "    time.sleep(sleeptime)"
   ],
   "metadata": {
    "collapsed": false,
    "pycharm": {
     "name": "#%%\n"
    }
   }
  },
  {
   "cell_type": "code",
   "execution_count": 19,
   "outputs": [
    {
     "data": {
      "text/plain": "                                        news title news publisher news writer  \\\n0                             苏州市分公司开展2020年度安全生产培训        发布人: 徐可        撰稿人:   \n1                       苏州联通干字当头，全力保障沪苏通长江公铁大桥正式通车        发布人: 徐可        撰稿人:   \n2                     明方向 知不足 打胜仗——苏州市分公司召开7月工作部署会        发布人: 徐可        撰稿人:   \n3               “全力以赴，奋战三季度”——市区分公司快速落实市分公司周例会工作要求        发布人: 徐可        撰稿人:   \n4                               张家港分公司召开“7月第二周周例会”        发布人: 陈莹        撰稿人:   \n..                                             ...            ...         ...   \n0                         工业园区分公司开展2022年春节引流交付跟单演练       发布人: 吴静文    撰稿人: 曾诚昊   \n0                           昆山分公司政企线召开苏康码防疫产品攻坚调度会       发布人: 陆群芳     撰稿人: 陆兵   \n0                     客户价值运营中心组织开展群组化智家包及移移融合专项推进会       发布人: 余珍璐    撰稿人: 余珍璐   \n0                             苏州联通党群工作部宣贯省公司工作会议精神        发布人: 廖姮     撰稿人: 廖姮   \n0   “自信担当 全国标杆”人力资源部传达学习省分年度工作会议精神，认真落实市分公司再学习部署要求       发布人: 吴荣昌    撰稿人: 吴荣昌   \n\n                                         news content               news date  \\\n0    7月4日，为进一步落实企业安全生产主体责任，提升企业安全生产能力和水平，苏州市分公司在滨河...  周一, 07/06/2020 - 14:40   \n1    7月1日上午11时45分，随着沪苏通铁路首趟列车缓缓使入张家港站，苏州常熟、太仓、张家港三...  周一, 07/06/2020 - 22:15   \n2    7月6日，苏州市分公司召开7月工作部署会，总结6月得失，明确7月方向。公司领导班子、各区县...  周二, 07/07/2020 - 15:56   \n3    7月13日晚，市区分公司在滨河路1300号309会议室召集各条线部门、网格、片区经理，快速...  周二, 07/14/2020 - 12:19   \n4    7月13日晚，张家港分公司召开“7月第二周周例会”，各部门、网格（中心）对上周的工作情况进...  周二, 07/14/2020 - 15:22   \n..                                                ...                     ...   \n0       2022年春节引流交付战役即将打响，为全力保障春节引流交付的高质转化，全面提升员工兼...  周一, 01/17/2022 - 09:25   \n0    1月15日上午，为加快昆山苏康码防疫产品规模突破，昆山分公司政企线组织召开苏康码防疫产品攻...  周一, 01/17/2022 - 09:51   \n0      为强化一线人员对群组化智家包和移移融合营销产品的熟知度，加快推进落实。1月14日下午，...  周一, 01/17/2022 - 10:17   \n0    1月17日，苏州联通党群工作部召开会议，贯彻落实集团公司“1+8+2”战略规划体系、省公司...  周一, 01/17/2022 - 12:23   \n0   1月17日上午，人力资源部全体成员对省分公司2022年度工作会议精神进行集中学习传达，并围绕...  周一, 01/17/2022 - 13:01   \n\n     news category   news link  \n0            新闻类别:    /node/84  \n1            新闻类别:    /node/85  \n2            新闻类别:    /node/87  \n3            新闻类别:   /node/103  \n4            新闻类别:   /node/106  \n..             ...         ...  \n0   新闻类别: 会议活动（内部）  /node/3861  \n0   新闻类别: 会议活动（内部）  /node/3860  \n0   新闻类别: 会议活动（内部）  /node/3863  \n0   新闻类别: 会议活动（内部）  /node/3865  \n0   新闻类别: 会议活动（内部）  /node/3866  \n\n[1934 rows x 7 columns]",
      "text/html": "<div>\n<style scoped>\n    .dataframe tbody tr th:only-of-type {\n        vertical-align: middle;\n    }\n\n    .dataframe tbody tr th {\n        vertical-align: top;\n    }\n\n    .dataframe thead th {\n        text-align: right;\n    }\n</style>\n<table border=\"1\" class=\"dataframe\">\n  <thead>\n    <tr style=\"text-align: right;\">\n      <th></th>\n      <th>news title</th>\n      <th>news publisher</th>\n      <th>news writer</th>\n      <th>news content</th>\n      <th>news date</th>\n      <th>news category</th>\n      <th>news link</th>\n    </tr>\n  </thead>\n  <tbody>\n    <tr>\n      <th>0</th>\n      <td>苏州市分公司开展2020年度安全生产培训</td>\n      <td>发布人: 徐可</td>\n      <td>撰稿人:</td>\n      <td>7月4日，为进一步落实企业安全生产主体责任，提升企业安全生产能力和水平，苏州市分公司在滨河...</td>\n      <td>周一, 07/06/2020 - 14:40</td>\n      <td>新闻类别:</td>\n      <td>/node/84</td>\n    </tr>\n    <tr>\n      <th>1</th>\n      <td>苏州联通干字当头，全力保障沪苏通长江公铁大桥正式通车</td>\n      <td>发布人: 徐可</td>\n      <td>撰稿人:</td>\n      <td>7月1日上午11时45分，随着沪苏通铁路首趟列车缓缓使入张家港站，苏州常熟、太仓、张家港三...</td>\n      <td>周一, 07/06/2020 - 22:15</td>\n      <td>新闻类别:</td>\n      <td>/node/85</td>\n    </tr>\n    <tr>\n      <th>2</th>\n      <td>明方向 知不足 打胜仗——苏州市分公司召开7月工作部署会</td>\n      <td>发布人: 徐可</td>\n      <td>撰稿人:</td>\n      <td>7月6日，苏州市分公司召开7月工作部署会，总结6月得失，明确7月方向。公司领导班子、各区县...</td>\n      <td>周二, 07/07/2020 - 15:56</td>\n      <td>新闻类别:</td>\n      <td>/node/87</td>\n    </tr>\n    <tr>\n      <th>3</th>\n      <td>“全力以赴，奋战三季度”——市区分公司快速落实市分公司周例会工作要求</td>\n      <td>发布人: 徐可</td>\n      <td>撰稿人:</td>\n      <td>7月13日晚，市区分公司在滨河路1300号309会议室召集各条线部门、网格、片区经理，快速...</td>\n      <td>周二, 07/14/2020 - 12:19</td>\n      <td>新闻类别:</td>\n      <td>/node/103</td>\n    </tr>\n    <tr>\n      <th>4</th>\n      <td>张家港分公司召开“7月第二周周例会”</td>\n      <td>发布人: 陈莹</td>\n      <td>撰稿人:</td>\n      <td>7月13日晚，张家港分公司召开“7月第二周周例会”，各部门、网格（中心）对上周的工作情况进...</td>\n      <td>周二, 07/14/2020 - 15:22</td>\n      <td>新闻类别:</td>\n      <td>/node/106</td>\n    </tr>\n    <tr>\n      <th>...</th>\n      <td>...</td>\n      <td>...</td>\n      <td>...</td>\n      <td>...</td>\n      <td>...</td>\n      <td>...</td>\n      <td>...</td>\n    </tr>\n    <tr>\n      <th>0</th>\n      <td>工业园区分公司开展2022年春节引流交付跟单演练</td>\n      <td>发布人: 吴静文</td>\n      <td>撰稿人: 曾诚昊</td>\n      <td>2022年春节引流交付战役即将打响，为全力保障春节引流交付的高质转化，全面提升员工兼...</td>\n      <td>周一, 01/17/2022 - 09:25</td>\n      <td>新闻类别: 会议活动（内部）</td>\n      <td>/node/3861</td>\n    </tr>\n    <tr>\n      <th>0</th>\n      <td>昆山分公司政企线召开苏康码防疫产品攻坚调度会</td>\n      <td>发布人: 陆群芳</td>\n      <td>撰稿人: 陆兵</td>\n      <td>1月15日上午，为加快昆山苏康码防疫产品规模突破，昆山分公司政企线组织召开苏康码防疫产品攻...</td>\n      <td>周一, 01/17/2022 - 09:51</td>\n      <td>新闻类别: 会议活动（内部）</td>\n      <td>/node/3860</td>\n    </tr>\n    <tr>\n      <th>0</th>\n      <td>客户价值运营中心组织开展群组化智家包及移移融合专项推进会</td>\n      <td>发布人: 余珍璐</td>\n      <td>撰稿人: 余珍璐</td>\n      <td>为强化一线人员对群组化智家包和移移融合营销产品的熟知度，加快推进落实。1月14日下午，...</td>\n      <td>周一, 01/17/2022 - 10:17</td>\n      <td>新闻类别: 会议活动（内部）</td>\n      <td>/node/3863</td>\n    </tr>\n    <tr>\n      <th>0</th>\n      <td>苏州联通党群工作部宣贯省公司工作会议精神</td>\n      <td>发布人: 廖姮</td>\n      <td>撰稿人: 廖姮</td>\n      <td>1月17日，苏州联通党群工作部召开会议，贯彻落实集团公司“1+8+2”战略规划体系、省公司...</td>\n      <td>周一, 01/17/2022 - 12:23</td>\n      <td>新闻类别: 会议活动（内部）</td>\n      <td>/node/3865</td>\n    </tr>\n    <tr>\n      <th>0</th>\n      <td>“自信担当 全国标杆”人力资源部传达学习省分年度工作会议精神，认真落实市分公司再学习部署要求</td>\n      <td>发布人: 吴荣昌</td>\n      <td>撰稿人: 吴荣昌</td>\n      <td>1月17日上午，人力资源部全体成员对省分公司2022年度工作会议精神进行集中学习传达，并围绕...</td>\n      <td>周一, 01/17/2022 - 13:01</td>\n      <td>新闻类别: 会议活动（内部）</td>\n      <td>/node/3866</td>\n    </tr>\n  </tbody>\n</table>\n<p>1934 rows × 7 columns</p>\n</div>"
     },
     "execution_count": 19,
     "metadata": {},
     "output_type": "execute_result"
    }
   ],
   "source": [
    "news_detail_df"
   ],
   "metadata": {
    "collapsed": false,
    "pycharm": {
     "name": "#%%\n"
    }
   }
  },
  {
   "cell_type": "code",
   "execution_count": 20,
   "outputs": [],
   "source": [
    "news_detail_df.to_csv('result_detail.csv', encoding='utf_8_sig', index=0)"
   ],
   "metadata": {
    "collapsed": false,
    "pycharm": {
     "name": "#%%\n"
    }
   }
  },
  {
   "cell_type": "code",
   "execution_count": 27,
   "outputs": [
    {
     "name": "stdout",
     "output_type": "stream",
     "text": [
      "1730\n",
      "1729\n",
      "1728\n",
      "1727\n",
      "1726\n",
      "1725\n",
      "1724\n",
      "1723\n",
      "1722\n",
      "1721\n",
      "1720\n",
      "1719\n",
      "1718\n",
      "1717\n",
      "1716\n",
      "1715\n",
      "1714\n",
      "1713\n",
      "1712\n",
      "1711\n",
      "1710\n",
      "1709\n",
      "1708\n",
      "1707\n",
      "1706\n",
      "1705\n",
      "1704\n",
      "1703\n",
      "1702\n",
      "1701\n",
      "1700\n",
      "1699\n",
      "1698\n",
      "1697\n",
      "1696\n",
      "1695\n",
      "1694\n",
      "1693\n",
      "1692\n",
      "1691\n",
      "1690\n",
      "1689\n",
      "1688\n",
      "1687\n",
      "1686\n",
      "1685\n",
      "1684\n",
      "1683\n",
      "1682\n",
      "1681\n",
      "1680\n",
      "1679\n",
      "1678\n",
      "1677\n",
      "1676\n",
      "1675\n",
      "1674\n",
      "1673\n",
      "1672\n",
      "1671\n",
      "1670\n",
      "1669\n",
      "1668\n",
      "1667\n",
      "1666\n",
      "1665\n",
      "1664\n",
      "1663\n",
      "1662\n",
      "1661\n",
      "1660\n",
      "1659\n",
      "1658\n",
      "1657\n",
      "1656\n",
      "1655\n",
      "1654\n",
      "1653\n",
      "1652\n",
      "1651\n",
      "1650\n",
      "1649\n",
      "1648\n",
      "1647\n",
      "1646\n",
      "1645\n",
      "1644\n",
      "1643\n",
      "1642\n",
      "1641\n",
      "1640\n",
      "1639\n",
      "1638\n",
      "1637\n",
      "1636\n",
      "1635\n",
      "1634\n",
      "1633\n",
      "1632\n",
      "1631\n"
     ]
    }
   ],
   "source": [
    "for i in range(len(links_exist), len(links_exist)-100, -1):\n",
    "    print(i)\n",
    "\n",
    "\n",
    "\n"
   ],
   "metadata": {
    "collapsed": false,
    "pycharm": {
     "name": "#%%\n"
    }
   }
  },
  {
   "cell_type": "code",
   "execution_count": 30,
   "outputs": [
    {
     "ename": "IndexError",
     "evalue": "list index out of range",
     "output_type": "error",
     "traceback": [
      "\u001B[1;31m---------------------------------------------------------------------------\u001B[0m",
      "\u001B[1;31mIndexError\u001B[0m                                Traceback (most recent call last)",
      "\u001B[1;32m~\\AppData\\Local\\Temp/ipykernel_7360/3429014155.py\u001B[0m in \u001B[0;36m<module>\u001B[1;34m\u001B[0m\n\u001B[1;32m----> 1\u001B[1;33m \u001B[0mlinks_exist\u001B[0m\u001B[1;33m[\u001B[0m\u001B[1;36m1730\u001B[0m\u001B[1;33m]\u001B[0m\u001B[1;33m\u001B[0m\u001B[1;33m\u001B[0m\u001B[0m\n\u001B[0m\u001B[0;32m      2\u001B[0m \u001B[1;31m# for i in range(2,len(all_links)):\u001B[0m\u001B[1;33m\u001B[0m\u001B[1;33m\u001B[0m\u001B[1;33m\u001B[0m\u001B[0m\n\u001B[0;32m      3\u001B[0m \u001B[1;31m#     url = 'http://10.201.112.8'+all_links[i]['src']\u001B[0m\u001B[1;33m\u001B[0m\u001B[1;33m\u001B[0m\u001B[1;33m\u001B[0m\u001B[0m\n\u001B[0;32m      4\u001B[0m \u001B[1;31m#     name = str(i-1)\u001B[0m\u001B[1;33m\u001B[0m\u001B[1;33m\u001B[0m\u001B[1;33m\u001B[0m\u001B[0m\n\u001B[0;32m      5\u001B[0m \u001B[1;31m#     path = \"D://download_image/\"\u001B[0m\u001B[1;33m\u001B[0m\u001B[1;33m\u001B[0m\u001B[1;33m\u001B[0m\u001B[0m\n",
      "\u001B[1;31mIndexError\u001B[0m: list index out of range"
     ]
    }
   ],
   "source": [
    "links_exist[1730]\n",
    "# for i in range(2,len(all_links)):\n",
    "#     url = 'http://10.201.112.8'+all_links[i]['src']\n",
    "#     name = str(i-1)\n",
    "#     path = \"D://download_image/\"\n",
    "#     urllib.request.urlretrieve(url,path+name+\".jpg\")\n",
    "#     print(\"-----------downloading------------\")\n",
    "# print(\"----------done--------------\")"
   ],
   "metadata": {
    "collapsed": false,
    "pycharm": {
     "name": "#%%\n"
    }
   }
  },
  {
   "cell_type": "code",
   "execution_count": 115,
   "outputs": [
    {
     "data": {
      "text/plain": "                     news title               news date news publisher  \\\n0  明方向 知不足 打胜仗——苏州市分公司召开7月工作部署会  周二, 07/07/2020 - 15:56        发布人: 徐可   \n\n  news writer news category                                       news content  \n0        撰稿人:         新闻类别:   7月6日，苏州市分公司召开7月工作部署会，总结6月得失，明确7月方向。公司领导班子、各区县...  ",
      "text/html": "<div>\n<style scoped>\n    .dataframe tbody tr th:only-of-type {\n        vertical-align: middle;\n    }\n\n    .dataframe tbody tr th {\n        vertical-align: top;\n    }\n\n    .dataframe thead th {\n        text-align: right;\n    }\n</style>\n<table border=\"1\" class=\"dataframe\">\n  <thead>\n    <tr style=\"text-align: right;\">\n      <th></th>\n      <th>news title</th>\n      <th>news date</th>\n      <th>news publisher</th>\n      <th>news writer</th>\n      <th>news category</th>\n      <th>news content</th>\n    </tr>\n  </thead>\n  <tbody>\n    <tr>\n      <th>0</th>\n      <td>明方向 知不足 打胜仗——苏州市分公司召开7月工作部署会</td>\n      <td>周二, 07/07/2020 - 15:56</td>\n      <td>发布人: 徐可</td>\n      <td>撰稿人:</td>\n      <td>新闻类别:</td>\n      <td>7月6日，苏州市分公司召开7月工作部署会，总结6月得失，明确7月方向。公司领导班子、各区县...</td>\n    </tr>\n  </tbody>\n</table>\n</div>"
     },
     "execution_count": 115,
     "metadata": {},
     "output_type": "execute_result"
    }
   ],
   "source": [
    "news_detail_df\n",
    "\n",
    "\n",
    "\n"
   ],
   "metadata": {
    "collapsed": false,
    "pycharm": {
     "name": "#%%\n"
    }
   }
  },
  {
   "cell_type": "code",
   "execution_count": null,
   "outputs": [],
   "source": [
    "# soup = bs(html_data, 'html.parser')\n",
    "# news_info_ = soup.find_all('div', class_ = 'article-create-date')\n",
    "#"
   ],
   "metadata": {
    "collapsed": false,
    "pycharm": {
     "name": "#%%\n"
    }
   }
  },
  {
   "cell_type": "code",
   "execution_count": null,
   "outputs": [],
   "source": [
    "# news_date = news_info_[0]\n",
    "# news_date = news_date.find_all('span')[1]\n",
    "# for i in news_date:\n",
    "#     print(i.text)\n",
    "#"
   ],
   "metadata": {
    "collapsed": false,
    "pycharm": {
     "name": "#%%\n"
    }
   }
  },
  {
   "cell_type": "code",
   "execution_count": null,
   "outputs": [],
   "source": [
    "# news_publisher_ = news_info_[1]\n",
    "# news_publisher_ = news_publisher_.text.strip()\n",
    "# news_publisher_\n",
    "# news_publisher_ = re.sub('\\xa0','', news_publisher_)\n",
    "# news_publisher_\n",
    "#"
   ],
   "metadata": {
    "collapsed": false,
    "pycharm": {
     "name": "#%%\n"
    }
   }
  },
  {
   "cell_type": "code",
   "execution_count": null,
   "outputs": [],
   "source": [
    "# news_writer_ = news_info_[2].text.strip()\n",
    "# news_writer_ = re.sub('\\xa0','',news_writer_)\n",
    "# news_writer_\n",
    "#"
   ],
   "metadata": {
    "collapsed": false,
    "pycharm": {
     "name": "#%%\n"
    }
   }
  },
  {
   "cell_type": "code",
   "execution_count": null,
   "outputs": [],
   "source": [
    "# news_category_ = news_info_[3].text.strip()\n",
    "# news_category_ = re.sub('\\xa0','', news_category_)\n",
    "# news_category_\n",
    "#"
   ],
   "metadata": {
    "collapsed": false,
    "pycharm": {
     "name": "#%%\n"
    }
   }
  },
  {
   "cell_type": "code",
   "execution_count": null,
   "outputs": [],
   "source": [
    "# news_content_ = soup.find_all('p')\n",
    "# for i in news_content_:\n",
    "#     print(i.text)"
   ],
   "metadata": {
    "collapsed": false,
    "pycharm": {
     "name": "#%%\n"
    }
   }
  }
 ],
 "metadata": {
  "kernelspec": {
   "display_name": "Python 3",
   "language": "python",
   "name": "python3"
  },
  "language_info": {
   "codemirror_mode": {
    "name": "ipython",
    "version": 2
   },
   "file_extension": ".py",
   "mimetype": "text/x-python",
   "name": "python",
   "nbconvert_exporter": "python",
   "pygments_lexer": "ipython2",
   "version": "2.7.6"
  }
 },
 "nbformat": 4,
 "nbformat_minor": 0
}