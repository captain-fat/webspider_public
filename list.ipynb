{
 "cells": [
  {
   "cell_type": "code",
   "execution_count": 1,
   "metadata": {
    "collapsed": true
   },
   "outputs": [],
   "source": [
    "#import necessary packages\n",
    "import random\n",
    "import time\n",
    "import urllib.request\n",
    "from bs4 import BeautifulSoup as bs\n",
    "import re\n",
    "import jieba\n",
    "import pandas as pd\n",
    "import numpy as np"
   ]
  },
  {
   "cell_type": "code",
   "execution_count": 2,
   "outputs": [],
   "source": [
    "#input page number and then return html data responded from the url link\n",
    "def return_html(num):\n",
    "    url = \"http://10.201.112.8/list/xinwen?page=\"+num\n",
    "    head = {'User-Agent': 'Mozilla/5.0 (Windows NT 10.0; Win64; x64; rv:93.0) Gecko/20100101 Firefox/93.0'}\n",
    "\n",
    "    request = urllib.request.Request(url=url, headers=head)\n",
    "    resp = urllib.request.urlopen(request)\n",
    "    html_data = resp.read().decode('utf-8')\n",
    "    return html_data"
   ],
   "metadata": {
    "collapsed": false,
    "pycharm": {
     "name": "#%%\n"
    }
   }
  },
  {
   "cell_type": "code",
   "execution_count": 3,
   "outputs": [],
   "source": [
    "#according to the returned html data to generate one dataframe to store information such as news title,\n",
    "# news content, news writer and ect. and then return the dataframe\n",
    "# print(html_data)\n",
    "def parse_df(html):\n",
    "    soup = bs(html, 'html.parser')\n",
    "    news_title = soup.find_all('div', class_='views-field-title')\n",
    "    news_content = soup.find_all('div', class_='views-field-body')\n",
    "    news_writer = soup.find_all('span', class_='release-info-dept')\n",
    "    news_date = soup.find_all('span', 'release-info-created')\n",
    "    news_titles = []\n",
    "    news_writers = []\n",
    "    news_date_ = []\n",
    "    news_content_ = []\n",
    "    news_links = []\n",
    "    for i in news_title:\n",
    "        news_titles.append(i.text)\n",
    "    for i in news_writer:\n",
    "        news_writers.append(i.text.strip())\n",
    "    for i in news_date:\n",
    "        news_date_.append(i.text.strip())\n",
    "    for i in news_content:\n",
    "        news_content_.append(i.text)\n",
    "    for i in news_title:\n",
    "        news_links.append(i.find('a').get('href'))\n",
    "    news_dict = {'news title': news_titles,'news writer':news_writers, 'news content': news_content_, 'news date': news_date_, 'news link': news_links}\n",
    "    news_df = pd.DataFrame(news_dict)\n",
    "    return news_df"
   ],
   "metadata": {
    "collapsed": false,
    "pycharm": {
     "name": "#%%\n"
    }
   }
  },
  {
   "cell_type": "code",
   "execution_count": null,
   "outputs": [],
   "source": [
    "# html_data = return_html(str(1))\n",
    "#"
   ],
   "metadata": {
    "collapsed": false,
    "pycharm": {
     "name": "#%%\n"
    }
   }
  },
  {
   "cell_type": "code",
   "execution_count": 33,
   "outputs": [
    {
     "name": "stdout",
     "output_type": "stream",
     "text": [
      "/node/3514\n",
      "/node/3513\n",
      "/node/3510\n",
      "/node/3509\n",
      "/node/3508\n",
      "/node/3507\n",
      "/node/3506\n",
      "/node/3505\n",
      "/node/3504\n",
      "/node/3502\n",
      "/node/3501\n",
      "/node/3499\n",
      "/node/3497\n",
      "/node/3496\n",
      "/node/3495\n",
      "/node/3494\n",
      "/node/3493\n",
      "/node/3492\n",
      "/node/3491\n",
      "/node/3490\n"
     ]
    }
   ],
   "source": [
    "# soup = bs(html_data, 'html.parser')\n",
    "# news_title = soup.find_all('div', class_='views-field-title')\n",
    "# for i in news_title:\n",
    "#     print(i.find('a').get('href'))"
   ],
   "metadata": {
    "collapsed": false,
    "pycharm": {
     "name": "#%%\n"
    }
   }
  },
  {
   "cell_type": "code",
   "execution_count": 35,
   "outputs": [],
   "source": [
    "# news_content = soup.find_all('div', class_='views-field-body')\n",
    "# news_writer = soup.find_all('span', class_='release-info-dept')\n",
    "# news_data = soup.find_all('span', 'release-info-created')\n",
    "# news_titles = []\n",
    "# news_writers = []\n",
    "# news_data_ = []\n",
    "# news_content_ = []\n",
    "# news_links = []\n",
    "# for i in news_title:\n",
    "#     news_titles.append(i.text)\n",
    "# for i in news_writer:\n",
    "#     news_writers.append(i.text.strip())\n",
    "# for i in news_data:\n",
    "#     news_data_.append(i.text)\n",
    "# for i in news_content:\n",
    "#     news_content_.append(i.text)\n",
    "# for i in news_title:\n",
    "#     news_links.append(i.find('a').get('href'))\n",
    "# news_dict = {'news title': news_titles,'news writer':news_writers, 'news content': news_content_, 'news data': news_data_, 'news link': news_links}\n",
    "# news_df = pd.DataFrame(news_dict)"
   ],
   "metadata": {
    "collapsed": false,
    "pycharm": {
     "name": "#%%\n"
    }
   }
  },
  {
   "cell_type": "code",
   "execution_count": 36,
   "outputs": [
    {
     "data": {
      "text/plain": "                                   news title         news writer  \\\n0        苏州联通行销中心党支部与光大银行苏州分行信息科技部党支部开展联合党建活动  苏州市分公司行业客户营销中心--谭欣   \n1                     太仓联通工会开展“快乐工作 健康生活”团建活动     苏州太仓分公司综合部--王晓晨   \n2         苏州联通副总经理王筱与嘉联益科技（苏州）有限公司梁羽翔副总经理进行会谈   苏州市相城区综合支撑中心--陈敬华   \n3                            网络部顺利完成双十一通信保障任务     苏州网络部综合支撑室--韩吉人   \n4                   苏州分公司召开苏州联通乡村振兴暨数字乡村工作推进会       苏州市分公司市场部--张琦   \n5                苏州联通助力智慧水利   成功签约防洪枢纽自动化远控项目  苏州市分公司行业客户营销中心--谭欣   \n6             “知敬畏、守廉洁”吴江联通党支部开展党风廉政沉浸式教育学习活动     苏州吴江分公司综合部--李乃娟   \n7            苏州联通副总经理戴永康与苏州农村商业银行首席信息官倪正华进行会谈     苏州吴江分公司综合部--李乃娟   \n8                            吴江联通召开党建带团建交流座谈会     苏州吴江分公司综合部--李乃娟   \n9           江苏联通 2021 年 数字化场景化营销技能苏州地区选拔赛顺利举办       苏州市分公司市场部--张琦   \n10        苏州联通副总经理王筱与苏州斯莱克精密设备股份有限公司副总李克坚进行会谈   苏州市吴中区综合支撑中心--别广思   \n11                     姑苏区营销中心与姑苏区民卫局举办党建共建活动   苏州市姑苏区综合支撑中心--金莹秋   \n12  党建共建促发展 合作共赢谱新篇 ——高新区经发委与高新区分公司开展党建共建签约仪式    苏州市高新区综合支撑中心--曹敏   \n13                   浓浓情意显真情 ——常熟分工会召开退休职工座谈会   苏州市常熟市综合支撑中心--冯丹妍   \n14             苏州联通宋成军总经理与舍弗勒集团大中华区CIO李海光进行会谈     苏州太仓分公司综合部--王晓晨   \n15      张家港联通党支部开展“党史百年 烽火芦荡” 沉浸式党史学习教育主题党日活动   苏州市张家港市综合支撑中心--陈莹   \n16       苏州联通宋成军总经理与江苏隆力奇生物科技股份有限公司董事长徐之伟进行会谈   苏州市常熟市综合支撑中心--冯丹妍   \n17                       吴江联通开展“11.9”消防灭火演练活动     苏州吴江分公司综合部--李乃娟   \n18                 太仓分公司党支部、团支部开展党史学习教育主题观影活动     苏州太仓分公司综合部--王晓晨   \n19            联通数科李广聚总裁和省公司施巍巍副总经理拜访苏州市大数据管理局       苏州市分公司办公室--徐可   \n\n                                         news content  \\\n0   2021年作为伟大祖国建党100周年，11月14日上午，苏州联通行销中心党支部与光大银行苏州...   \n1   为使大家能够在繁忙的工作中，感受大自然，体验户外生活的乐趣，11月13日太仓分公司工会在太仓...   \n2   为强化落实SVIP战略客户高质量渗透工作攻坚，11月11日上午，苏州联通副总经理王筱、相城营...   \n3              随着11月11日的临近，苏州联通“双十一”重点电商通信保障进入关键实施阶段。   \n4   11月12日13点30分，苏州市分公司召开苏州联通乡村振兴暨数字乡村工作推进会。徐伟斌副总经...   \n5   11月11日下午，苏州市河道处与苏州联通在苏州市河道处成功举行了防洪枢纽自动化远控项目的签约...   \n6   为切实加强党风廉政建设，进一步提高党员干部的拒腐防变能力，激发爱岗敬业的工作热情，11月12...   \n7   为提升战略客户对联通网络品质的感知，为下一步开展信息化合作提供契机，11月11日上午，苏州联...   \n8   为深入贯彻落实《中国联通党建带团建工作实施方案》，进一步促成党团互促互进共同发展的良好局面，...   \n9   11月10日，在公司领导部署，市场部牵头组织下，江苏联通2021年数字化场景化营销技能选苏州...   \n10  为进一步落实SVIP战略客户高质量渗透工作攻坚，11月11日上午，苏州联通副总经理王筱、吴中...   \n11  为加强基层党组织建设，以高质量党建引领高质量发展，打造资源共享、优势互补的交流合作平合，推进...   \n12  11月10日下午，在苏州联通苏州信息消费体验中心智慧展厅，高新区分公司与高新区经发委举行了简...   \n13  11月10日上午，一场简朴而温馨的退休职工欢送会在常熟分公司会议室举行，常熟分工会领导、员工...   \n14  为推进SVIP战略客户高质量渗透工作攻坚，深化与太仓德企的良好客情，加强双方合作，11月10...   \n15  为传承红色基因，领悟革命初心，赓续共产党人精神血脉，在党史学习教育中真正做到学思践悟，11月...   \n16  为落实SVIP战略客户高质量渗透工作攻坚，加大规上企业拜访力度，深化客情，加强合作，11月9...   \n17  冬季天干物燥，历来是火灾高发多发季节。为使员工了解消防基础知识，提高安全防范意识，增强自我保...   \n18  为深入学习百年党史，回顾新中国艰苦卓绝的奋斗历程,激发职工缅怀革命先辈、培养爱国主义情怀，1...   \n19  11月9日，在省公司施巍巍副总经理的陪同下，联通数字科技有限公司总裁李广聚、数据智能事业部总...   \n\n                     news data   news link  \n0   \\n        2021-11-15\\n      /node/3514  \n1   \\n        2021-11-15\\n      /node/3513  \n2   \\n        2021-11-15\\n      /node/3510  \n3   \\n        2021-11-12\\n      /node/3509  \n4   \\n        2021-11-12\\n      /node/3508  \n5   \\n        2021-11-12\\n      /node/3507  \n6   \\n        2021-11-12\\n      /node/3506  \n7   \\n        2021-11-12\\n      /node/3505  \n8   \\n        2021-11-12\\n      /node/3504  \n9   \\n        2021-11-12\\n      /node/3502  \n10  \\n        2021-11-12\\n      /node/3501  \n11  \\n        2021-11-11\\n      /node/3499  \n12  \\n        2021-11-11\\n      /node/3497  \n13  \\n        2021-11-11\\n      /node/3496  \n14  \\n        2021-11-11\\n      /node/3495  \n15  \\n        2021-11-10\\n      /node/3494  \n16  \\n        2021-11-10\\n      /node/3493  \n17  \\n        2021-11-10\\n      /node/3492  \n18  \\n        2021-11-10\\n      /node/3491  \n19  \\n        2021-11-09\\n      /node/3490  ",
      "text/html": "<div>\n<style scoped>\n    .dataframe tbody tr th:only-of-type {\n        vertical-align: middle;\n    }\n\n    .dataframe tbody tr th {\n        vertical-align: top;\n    }\n\n    .dataframe thead th {\n        text-align: right;\n    }\n</style>\n<table border=\"1\" class=\"dataframe\">\n  <thead>\n    <tr style=\"text-align: right;\">\n      <th></th>\n      <th>news title</th>\n      <th>news writer</th>\n      <th>news content</th>\n      <th>news data</th>\n      <th>news link</th>\n    </tr>\n  </thead>\n  <tbody>\n    <tr>\n      <th>0</th>\n      <td>苏州联通行销中心党支部与光大银行苏州分行信息科技部党支部开展联合党建活动</td>\n      <td>苏州市分公司行业客户营销中心--谭欣</td>\n      <td>2021年作为伟大祖国建党100周年，11月14日上午，苏州联通行销中心党支部与光大银行苏州...</td>\n      <td>\\n        2021-11-15\\n</td>\n      <td>/node/3514</td>\n    </tr>\n    <tr>\n      <th>1</th>\n      <td>太仓联通工会开展“快乐工作 健康生活”团建活动</td>\n      <td>苏州太仓分公司综合部--王晓晨</td>\n      <td>为使大家能够在繁忙的工作中，感受大自然，体验户外生活的乐趣，11月13日太仓分公司工会在太仓...</td>\n      <td>\\n        2021-11-15\\n</td>\n      <td>/node/3513</td>\n    </tr>\n    <tr>\n      <th>2</th>\n      <td>苏州联通副总经理王筱与嘉联益科技（苏州）有限公司梁羽翔副总经理进行会谈</td>\n      <td>苏州市相城区综合支撑中心--陈敬华</td>\n      <td>为强化落实SVIP战略客户高质量渗透工作攻坚，11月11日上午，苏州联通副总经理王筱、相城营...</td>\n      <td>\\n        2021-11-15\\n</td>\n      <td>/node/3510</td>\n    </tr>\n    <tr>\n      <th>3</th>\n      <td>网络部顺利完成双十一通信保障任务</td>\n      <td>苏州网络部综合支撑室--韩吉人</td>\n      <td>随着11月11日的临近，苏州联通“双十一”重点电商通信保障进入关键实施阶段。</td>\n      <td>\\n        2021-11-12\\n</td>\n      <td>/node/3509</td>\n    </tr>\n    <tr>\n      <th>4</th>\n      <td>苏州分公司召开苏州联通乡村振兴暨数字乡村工作推进会</td>\n      <td>苏州市分公司市场部--张琦</td>\n      <td>11月12日13点30分，苏州市分公司召开苏州联通乡村振兴暨数字乡村工作推进会。徐伟斌副总经...</td>\n      <td>\\n        2021-11-12\\n</td>\n      <td>/node/3508</td>\n    </tr>\n    <tr>\n      <th>5</th>\n      <td>苏州联通助力智慧水利   成功签约防洪枢纽自动化远控项目</td>\n      <td>苏州市分公司行业客户营销中心--谭欣</td>\n      <td>11月11日下午，苏州市河道处与苏州联通在苏州市河道处成功举行了防洪枢纽自动化远控项目的签约...</td>\n      <td>\\n        2021-11-12\\n</td>\n      <td>/node/3507</td>\n    </tr>\n    <tr>\n      <th>6</th>\n      <td>“知敬畏、守廉洁”吴江联通党支部开展党风廉政沉浸式教育学习活动</td>\n      <td>苏州吴江分公司综合部--李乃娟</td>\n      <td>为切实加强党风廉政建设，进一步提高党员干部的拒腐防变能力，激发爱岗敬业的工作热情，11月12...</td>\n      <td>\\n        2021-11-12\\n</td>\n      <td>/node/3506</td>\n    </tr>\n    <tr>\n      <th>7</th>\n      <td>苏州联通副总经理戴永康与苏州农村商业银行首席信息官倪正华进行会谈</td>\n      <td>苏州吴江分公司综合部--李乃娟</td>\n      <td>为提升战略客户对联通网络品质的感知，为下一步开展信息化合作提供契机，11月11日上午，苏州联...</td>\n      <td>\\n        2021-11-12\\n</td>\n      <td>/node/3505</td>\n    </tr>\n    <tr>\n      <th>8</th>\n      <td>吴江联通召开党建带团建交流座谈会</td>\n      <td>苏州吴江分公司综合部--李乃娟</td>\n      <td>为深入贯彻落实《中国联通党建带团建工作实施方案》，进一步促成党团互促互进共同发展的良好局面，...</td>\n      <td>\\n        2021-11-12\\n</td>\n      <td>/node/3504</td>\n    </tr>\n    <tr>\n      <th>9</th>\n      <td>江苏联通 2021 年 数字化场景化营销技能苏州地区选拔赛顺利举办</td>\n      <td>苏州市分公司市场部--张琦</td>\n      <td>11月10日，在公司领导部署，市场部牵头组织下，江苏联通2021年数字化场景化营销技能选苏州...</td>\n      <td>\\n        2021-11-12\\n</td>\n      <td>/node/3502</td>\n    </tr>\n    <tr>\n      <th>10</th>\n      <td>苏州联通副总经理王筱与苏州斯莱克精密设备股份有限公司副总李克坚进行会谈</td>\n      <td>苏州市吴中区综合支撑中心--别广思</td>\n      <td>为进一步落实SVIP战略客户高质量渗透工作攻坚，11月11日上午，苏州联通副总经理王筱、吴中...</td>\n      <td>\\n        2021-11-12\\n</td>\n      <td>/node/3501</td>\n    </tr>\n    <tr>\n      <th>11</th>\n      <td>姑苏区营销中心与姑苏区民卫局举办党建共建活动</td>\n      <td>苏州市姑苏区综合支撑中心--金莹秋</td>\n      <td>为加强基层党组织建设，以高质量党建引领高质量发展，打造资源共享、优势互补的交流合作平合，推进...</td>\n      <td>\\n        2021-11-11\\n</td>\n      <td>/node/3499</td>\n    </tr>\n    <tr>\n      <th>12</th>\n      <td>党建共建促发展 合作共赢谱新篇 ——高新区经发委与高新区分公司开展党建共建签约仪式</td>\n      <td>苏州市高新区综合支撑中心--曹敏</td>\n      <td>11月10日下午，在苏州联通苏州信息消费体验中心智慧展厅，高新区分公司与高新区经发委举行了简...</td>\n      <td>\\n        2021-11-11\\n</td>\n      <td>/node/3497</td>\n    </tr>\n    <tr>\n      <th>13</th>\n      <td>浓浓情意显真情 ——常熟分工会召开退休职工座谈会</td>\n      <td>苏州市常熟市综合支撑中心--冯丹妍</td>\n      <td>11月10日上午，一场简朴而温馨的退休职工欢送会在常熟分公司会议室举行，常熟分工会领导、员工...</td>\n      <td>\\n        2021-11-11\\n</td>\n      <td>/node/3496</td>\n    </tr>\n    <tr>\n      <th>14</th>\n      <td>苏州联通宋成军总经理与舍弗勒集团大中华区CIO李海光进行会谈</td>\n      <td>苏州太仓分公司综合部--王晓晨</td>\n      <td>为推进SVIP战略客户高质量渗透工作攻坚，深化与太仓德企的良好客情，加强双方合作，11月10...</td>\n      <td>\\n        2021-11-11\\n</td>\n      <td>/node/3495</td>\n    </tr>\n    <tr>\n      <th>15</th>\n      <td>张家港联通党支部开展“党史百年 烽火芦荡” 沉浸式党史学习教育主题党日活动</td>\n      <td>苏州市张家港市综合支撑中心--陈莹</td>\n      <td>为传承红色基因，领悟革命初心，赓续共产党人精神血脉，在党史学习教育中真正做到学思践悟，11月...</td>\n      <td>\\n        2021-11-10\\n</td>\n      <td>/node/3494</td>\n    </tr>\n    <tr>\n      <th>16</th>\n      <td>苏州联通宋成军总经理与江苏隆力奇生物科技股份有限公司董事长徐之伟进行会谈</td>\n      <td>苏州市常熟市综合支撑中心--冯丹妍</td>\n      <td>为落实SVIP战略客户高质量渗透工作攻坚，加大规上企业拜访力度，深化客情，加强合作，11月9...</td>\n      <td>\\n        2021-11-10\\n</td>\n      <td>/node/3493</td>\n    </tr>\n    <tr>\n      <th>17</th>\n      <td>吴江联通开展“11.9”消防灭火演练活动</td>\n      <td>苏州吴江分公司综合部--李乃娟</td>\n      <td>冬季天干物燥，历来是火灾高发多发季节。为使员工了解消防基础知识，提高安全防范意识，增强自我保...</td>\n      <td>\\n        2021-11-10\\n</td>\n      <td>/node/3492</td>\n    </tr>\n    <tr>\n      <th>18</th>\n      <td>太仓分公司党支部、团支部开展党史学习教育主题观影活动</td>\n      <td>苏州太仓分公司综合部--王晓晨</td>\n      <td>为深入学习百年党史，回顾新中国艰苦卓绝的奋斗历程,激发职工缅怀革命先辈、培养爱国主义情怀，1...</td>\n      <td>\\n        2021-11-10\\n</td>\n      <td>/node/3491</td>\n    </tr>\n    <tr>\n      <th>19</th>\n      <td>联通数科李广聚总裁和省公司施巍巍副总经理拜访苏州市大数据管理局</td>\n      <td>苏州市分公司办公室--徐可</td>\n      <td>11月9日，在省公司施巍巍副总经理的陪同下，联通数字科技有限公司总裁李广聚、数据智能事业部总...</td>\n      <td>\\n        2021-11-09\\n</td>\n      <td>/node/3490</td>\n    </tr>\n  </tbody>\n</table>\n</div>"
     },
     "execution_count": 36,
     "metadata": {},
     "output_type": "execute_result"
    }
   ],
   "source": [
    "# news_df"
   ],
   "metadata": {
    "collapsed": false,
    "pycharm": {
     "name": "#%%\n"
    }
   }
  },
  {
   "cell_type": "code",
   "execution_count": 4,
   "outputs": [
    {
     "data": {
      "text/plain": "Empty DataFrame\nColumns: [news title, news writer, news content, news date, news link]\nIndex: []",
      "text/html": "<div>\n<style scoped>\n    .dataframe tbody tr th:only-of-type {\n        vertical-align: middle;\n    }\n\n    .dataframe tbody tr th {\n        vertical-align: top;\n    }\n\n    .dataframe thead th {\n        text-align: right;\n    }\n</style>\n<table border=\"1\" class=\"dataframe\">\n  <thead>\n    <tr style=\"text-align: right;\">\n      <th></th>\n      <th>news title</th>\n      <th>news writer</th>\n      <th>news content</th>\n      <th>news date</th>\n      <th>news link</th>\n    </tr>\n  </thead>\n  <tbody>\n  </tbody>\n</table>\n</div>"
     },
     "execution_count": 4,
     "metadata": {},
     "output_type": "execute_result"
    }
   ],
   "source": [
    "# format new dataframe\n",
    "news_df_ = pd.DataFrame(columns=['news title', 'news writer', 'news content', 'news date', 'news link'])\n",
    "news_df_"
   ],
   "metadata": {
    "collapsed": false,
    "pycharm": {
     "name": "#%%\n"
    }
   }
  },
  {
   "cell_type": "code",
   "execution_count": 5,
   "outputs": [],
   "source": [
    "# read exist csv to create one dataframe that can be compared with the new one, avoid duplicated data\n",
    "df_exist = pd.read_csv('result.csv')\n",
    "news_link_exist = df_exist['news link'].values.tolist()"
   ],
   "metadata": {
    "collapsed": false,
    "pycharm": {
     "name": "#%%\n"
    }
   }
  },
  {
   "cell_type": "code",
   "execution_count": 55,
   "outputs": [
    {
     "data": {
      "text/plain": "['/node/3538',\n '/node/3537',\n '/node/3535',\n '/node/3534',\n '/node/3532',\n '/node/3530',\n '/node/3529',\n '/node/3528',\n '/node/3527',\n '/node/3525',\n '/node/3524',\n '/node/3523',\n '/node/3522',\n '/node/3521',\n '/node/3520',\n '/node/3519',\n '/node/3518',\n '/node/3517',\n '/node/3516',\n '/node/3515',\n '/node/3514',\n '/node/3513',\n '/node/3510',\n '/node/3509',\n '/node/3508',\n '/node/3507',\n '/node/3506',\n '/node/3505',\n '/node/3504',\n '/node/3502',\n '/node/3501',\n '/node/3499',\n '/node/3497',\n '/node/3496',\n '/node/3495',\n '/node/3494',\n '/node/3493',\n '/node/3492',\n '/node/3491',\n '/node/3490',\n '/node/3488',\n '/node/3487',\n '/node/3486',\n '/node/3485',\n '/node/3470',\n '/node/3468',\n '/node/3467',\n '/node/3466',\n '/node/3465',\n '/node/3464',\n '/node/3463',\n '/node/3462',\n '/node/3459',\n '/node/3458',\n '/node/3456',\n '/node/3455',\n '/node/3454',\n '/node/3453',\n '/node/3452',\n '/node/3448',\n '/node/3449',\n '/node/3446',\n '/node/3444',\n '/node/3443',\n '/node/3442',\n '/node/3441',\n '/node/3440',\n '/node/3439',\n '/node/3438',\n '/node/3436',\n '/node/3435',\n '/node/3434',\n '/node/3432',\n '/node/3430',\n '/node/3429',\n '/node/3428',\n '/node/3420',\n '/node/3419',\n '/node/3418',\n '/node/3415',\n '/node/3414',\n '/node/3413',\n '/node/3412',\n '/node/3411',\n '/node/3410',\n '/node/3409',\n '/node/3408',\n '/node/3407',\n '/node/3406',\n '/node/3404',\n '/node/3402',\n '/node/3400',\n '/node/3398',\n '/node/3396',\n '/node/3395',\n '/node/3394',\n '/node/3392',\n '/node/3390',\n '/node/3389',\n '/node/3388',\n '/node/3385',\n '/node/3386',\n '/node/3382',\n '/node/3380',\n '/node/3378',\n '/node/3377',\n '/node/3376',\n '/node/3375',\n '/node/3374',\n '/node/3373',\n '/node/3372',\n '/node/3371',\n '/node/3368',\n '/node/3365',\n '/node/3364',\n '/node/3363',\n '/node/3362',\n '/node/3360',\n '/node/3359',\n '/node/3358',\n '/node/3357',\n '/node/3354',\n '/node/3351',\n '/node/3350',\n '/node/3349',\n '/node/3346',\n '/node/3345',\n '/node/3344',\n '/node/3342',\n '/node/3341',\n '/node/3340',\n '/node/3339',\n '/node/3338',\n '/node/3336',\n '/node/3334',\n '/node/3332',\n '/node/3330',\n '/node/3329',\n '/node/3328',\n '/node/3326',\n '/node/3325',\n '/node/3324',\n '/node/3323',\n '/node/3321',\n '/node/3319',\n '/node/3317',\n '/node/3316',\n '/node/3315',\n '/node/3314',\n '/node/3312',\n '/node/3311',\n '/node/3308',\n '/node/3307',\n '/node/3306',\n '/node/3305',\n '/node/3304',\n '/node/3303',\n '/node/3301',\n '/node/3298',\n '/node/3297',\n '/node/3296',\n '/node/3295',\n '/node/3294',\n '/node/3292',\n '/node/3291',\n '/node/3290',\n '/node/3289',\n '/node/3288',\n '/node/3287',\n '/node/3286',\n '/node/3284',\n '/node/3283',\n '/node/3282',\n '/node/3280',\n '/node/3278',\n '/node/3277',\n '/node/3276',\n '/node/3275',\n '/node/3273',\n '/node/3272',\n '/node/3270',\n '/node/3267',\n '/node/3266',\n '/node/3264',\n '/node/3261',\n '/node/3256',\n '/node/3248',\n '/node/3218',\n '/node/3216',\n '/node/3213',\n '/node/3212',\n '/node/3211',\n '/node/3206',\n '/node/3204',\n '/node/3199',\n '/node/3196',\n '/node/3195',\n '/node/3190',\n '/node/3187',\n '/node/3186',\n '/node/3183',\n '/node/3181',\n '/node/3177',\n '/node/3176',\n '/node/3174',\n '/node/3173',\n '/node/3169',\n '/node/3168',\n '/node/3166',\n '/node/3164',\n '/node/3162',\n '/node/3160',\n '/node/3158',\n '/node/3157',\n '/node/3152',\n '/node/3151',\n '/node/3147',\n '/node/3146',\n '/node/3145',\n '/node/3143',\n '/node/3140',\n '/node/3136',\n '/node/3134',\n '/node/3128',\n '/node/3127',\n '/node/3126',\n '/node/3124',\n '/node/3120',\n '/node/3116',\n '/node/3113',\n '/node/3112',\n '/node/3110',\n '/node/3109',\n '/node/3108',\n '/node/3105',\n '/node/3103',\n '/node/3102',\n '/node/3101',\n '/node/3098',\n '/node/3097',\n '/node/3096',\n '/node/3095',\n '/node/3092',\n '/node/3091',\n '/node/3089',\n '/node/3088',\n '/node/3086',\n '/node/3085',\n '/node/3079',\n '/node/3078',\n '/node/3076',\n '/node/3077',\n '/node/3075',\n '/node/3073',\n '/node/3072',\n '/node/3070',\n '/node/3068',\n '/node/3067',\n '/node/3066',\n '/node/3058',\n '/node/3056',\n '/node/3055',\n '/node/3054',\n '/node/3052',\n '/node/3051',\n '/node/3050',\n '/node/3049',\n '/node/3048',\n '/node/3045',\n '/node/3043',\n '/node/3040',\n '/node/3039',\n '/node/3037',\n '/node/3036',\n '/node/3035',\n '/node/3034',\n '/node/3033',\n '/node/3031',\n '/node/3030',\n '/node/3028',\n '/node/3027',\n '/node/3026',\n '/node/3024',\n '/node/3015',\n '/node/3014',\n '/node/3013',\n '/node/3012',\n '/node/3011',\n '/node/3010',\n '/node/3009',\n '/node/3006',\n '/node/3005',\n '/node/3004',\n '/node/3002',\n '/node/3001',\n '/node/2999',\n '/node/2998',\n '/node/2997',\n '/node/2994',\n '/node/2993',\n '/node/2992',\n '/node/2991',\n '/node/2989',\n '/node/2988',\n '/node/2987',\n '/node/2986',\n '/node/2985',\n '/node/2984',\n '/node/2983',\n '/node/2982',\n '/node/2979',\n '/node/2977',\n '/node/2976',\n '/node/2974',\n '/node/2972',\n '/node/2967',\n '/node/2965',\n '/node/2964',\n '/node/2962',\n '/node/2961',\n '/node/2960',\n '/node/2959',\n '/node/2958',\n '/node/2952',\n '/node/2951',\n '/node/2950',\n '/node/2949',\n '/node/2947',\n '/node/2946',\n '/node/2944',\n '/node/2945',\n '/node/2943',\n '/node/2942',\n '/node/2941',\n '/node/2940',\n '/node/2939',\n '/node/2935',\n '/node/2934',\n '/node/2932',\n '/node/2931',\n '/node/2930',\n '/node/2928',\n '/node/2926',\n '/node/2925',\n '/node/2924',\n '/node/2923',\n '/node/2922',\n '/node/2921',\n '/node/2919',\n '/node/2916',\n '/node/2915',\n '/node/2914',\n '/node/2912',\n '/node/2911',\n '/node/2910',\n '/node/2909',\n '/node/2908',\n '/node/2906',\n '/node/2905',\n '/node/2903',\n '/node/2900',\n '/node/2901',\n '/node/2899',\n '/node/2895',\n '/node/2894',\n '/node/2893',\n '/node/2892',\n '/node/2890',\n '/node/2889',\n '/node/2887',\n '/node/2886',\n '/node/2885',\n '/node/2884',\n '/node/2883',\n '/node/2882',\n '/node/2880',\n '/node/2879',\n '/node/2876',\n '/node/2875',\n '/node/2874',\n '/node/2874',\n '/node/2873',\n '/node/2872',\n '/node/2869',\n '/node/2867',\n '/node/2866',\n '/node/2863',\n '/node/2861',\n '/node/2859',\n '/node/2856',\n '/node/2855',\n '/node/2854',\n '/node/2853',\n '/node/2852',\n '/node/2851',\n '/node/2850',\n '/node/2848',\n '/node/2847',\n '/node/2845',\n '/node/2844',\n '/node/2843',\n '/node/2842',\n '/node/2841',\n '/node/2840',\n '/node/2839',\n '/node/2837',\n '/node/2836',\n '/node/2835',\n '/node/2832',\n '/node/2830',\n '/node/2827',\n '/node/2824',\n '/node/2825',\n '/node/2823',\n '/node/2822',\n '/node/2820',\n '/node/2818',\n '/node/2817',\n '/node/2813',\n '/node/2812',\n '/node/2811',\n '/node/2806',\n '/node/2804',\n '/node/2803',\n '/node/2802',\n '/node/2801',\n '/node/2799',\n '/node/2800',\n '/node/2796',\n '/node/2795',\n '/node/2794',\n '/node/2793',\n '/node/2792',\n '/node/2791',\n '/node/2790',\n '/node/2788',\n '/node/2787',\n '/node/2784',\n '/node/2783',\n '/node/2782',\n '/node/2781',\n '/node/2780',\n '/node/2779',\n '/node/2775',\n '/node/2768',\n '/node/2767',\n '/node/2766',\n '/node/2764',\n '/node/2763',\n '/node/2762',\n '/node/2757',\n '/node/2756',\n '/node/2755',\n '/node/2754',\n '/node/2753',\n '/node/2751',\n '/node/2749',\n '/node/2748',\n '/node/2747',\n '/node/2746',\n '/node/2745',\n '/node/2743',\n '/node/2742',\n '/node/2740',\n '/node/2738',\n '/node/2737',\n '/node/2733',\n '/node/2732',\n '/node/2731',\n '/node/2730',\n '/node/2729',\n '/node/2728',\n '/node/2726',\n '/node/2725',\n '/node/2724',\n '/node/2723',\n '/node/2722',\n '/node/2721',\n '/node/2719',\n '/node/2717',\n '/node/2713',\n '/node/2712',\n '/node/2711',\n '/node/2710',\n '/node/2709',\n '/node/2708',\n '/node/2706',\n '/node/2700',\n '/node/2699',\n '/node/2697',\n '/node/2696',\n '/node/2695',\n '/node/2694',\n '/node/2692',\n '/node/2690',\n '/node/2689',\n '/node/2688',\n '/node/2687',\n '/node/2686',\n '/node/2685',\n '/node/2683',\n '/node/2684',\n '/node/2682',\n '/node/2680',\n '/node/2677',\n '/node/2678',\n '/node/2676',\n '/node/2674',\n '/node/2672',\n '/node/2671',\n '/node/2670',\n '/node/2669',\n '/node/2666',\n '/node/2665',\n '/node/2664',\n '/node/2662',\n '/node/2659',\n '/node/2658',\n '/node/2656',\n '/node/2653',\n '/node/2652',\n '/node/2651',\n '/node/2648',\n '/node/2645',\n '/node/2644',\n '/node/2642',\n '/node/2641',\n '/node/2640',\n '/node/2639',\n '/node/2638',\n '/node/2636',\n '/node/2635',\n '/node/2634',\n '/node/2631',\n '/node/2630',\n '/node/2629',\n '/node/2628',\n '/node/2627',\n '/node/2624',\n '/node/2623',\n '/node/2622',\n '/node/2621',\n '/node/2620',\n '/node/2619',\n '/node/2618',\n '/node/2617',\n '/node/2616',\n '/node/2615',\n '/node/2614',\n '/node/2613',\n '/node/2611',\n '/node/2610',\n '/node/2609',\n '/node/2608',\n '/node/2606',\n '/node/2603',\n '/node/2605',\n '/node/2601',\n '/node/2599',\n '/node/2600',\n '/node/2598',\n '/node/2597',\n '/node/2595',\n '/node/2592',\n '/node/2589',\n '/node/2587',\n '/node/2586',\n '/node/2584',\n '/node/2583',\n '/node/2582',\n '/node/2580',\n '/node/2579',\n '/node/2578',\n '/node/2577',\n '/node/2575',\n '/node/2574',\n '/node/2572',\n '/node/2570',\n '/node/2569',\n '/node/2568',\n '/node/2566',\n '/node/2565',\n '/node/2564',\n '/node/2563',\n '/node/2562',\n '/node/2560',\n '/node/2556',\n '/node/2555',\n '/node/2554',\n '/node/2553',\n '/node/2552',\n '/node/2551',\n '/node/2550',\n '/node/2548',\n '/node/2547',\n '/node/2545',\n '/node/2543',\n '/node/2541',\n '/node/2539',\n '/node/2537',\n '/node/2535',\n '/node/2534',\n '/node/2533',\n '/node/2532',\n '/node/2531',\n '/node/2529',\n '/node/2527',\n '/node/2526',\n '/node/2525',\n '/node/2523',\n '/node/2521',\n '/node/2520',\n '/node/2519',\n '/node/2518',\n '/node/2514',\n '/node/2513',\n '/node/2512',\n '/node/2509',\n '/node/2508',\n '/node/2507',\n '/node/2506',\n '/node/2505',\n '/node/2504',\n '/node/2503',\n '/node/2502',\n '/node/2500',\n '/node/2499',\n '/node/2498',\n '/node/2497',\n '/node/2490',\n '/node/2489',\n '/node/2488',\n '/node/2487',\n '/node/2486',\n '/node/2485',\n '/node/2484',\n '/node/2483',\n '/node/2480',\n '/node/2478',\n '/node/2477',\n '/node/2476',\n '/node/2475',\n '/node/2474',\n '/node/2473',\n '/node/2472',\n '/node/2471',\n '/node/2469',\n '/node/2468',\n '/node/2467',\n '/node/2465',\n '/node/2464',\n '/node/2463',\n '/node/2461',\n '/node/2462',\n '/node/2459',\n '/node/2458',\n '/node/2457',\n '/node/2455',\n '/node/2454',\n '/node/2452',\n '/node/2451',\n '/node/2450',\n '/node/2449',\n '/node/2448',\n '/node/2446',\n '/node/2445',\n '/node/2443',\n '/node/2442',\n '/node/2441',\n '/node/2438',\n '/node/2437',\n '/node/2435',\n '/node/2433',\n '/node/2432',\n '/node/2431',\n '/node/2428',\n '/node/2426',\n '/node/2425',\n '/node/2424',\n '/node/2423',\n '/node/2422',\n '/node/2420',\n '/node/2419',\n '/node/2417',\n '/node/2415',\n '/node/2414',\n '/node/2412',\n '/node/2411',\n '/node/2408',\n '/node/2407',\n '/node/2406',\n '/node/2404',\n '/node/2403',\n '/node/2402',\n '/node/2400',\n '/node/2399',\n '/node/2398',\n '/node/2397',\n '/node/2396',\n '/node/2394',\n '/node/2393',\n '/node/2389',\n '/node/2388',\n '/node/2386',\n '/node/2385',\n '/node/2384',\n '/node/2382',\n '/node/2381',\n '/node/2380',\n '/node/2379',\n '/node/2378',\n '/node/2377',\n '/node/2376',\n '/node/2375',\n '/node/2373',\n '/node/2372',\n '/node/2371',\n '/node/2369',\n '/node/2368',\n '/node/2367',\n '/node/2365',\n '/node/2361',\n '/node/2360',\n '/node/2359',\n '/node/2358',\n '/node/2356',\n '/node/2352',\n '/node/2353',\n '/node/2351',\n '/node/2350',\n '/node/2349',\n '/node/2348',\n '/node/2347',\n '/node/2346',\n '/node/2344',\n '/node/2341',\n '/node/2340',\n '/node/2338',\n '/node/2337',\n '/node/2336',\n '/node/2335',\n '/node/2334',\n '/node/2331',\n '/node/2330',\n '/node/2329',\n '/node/2327',\n '/node/2324',\n '/node/2323',\n '/node/2322',\n '/node/2321',\n '/node/2319',\n '/node/2318',\n '/node/2317',\n '/node/2315',\n '/node/2314',\n '/node/2313',\n '/node/2310',\n '/node/2309',\n '/node/2308',\n '/node/2305',\n '/node/2304',\n '/node/2303',\n '/node/2300',\n '/node/2299',\n '/node/2298',\n '/node/2296',\n '/node/2294',\n '/node/2293',\n '/node/2292',\n '/node/2291',\n '/node/2289',\n '/node/2288',\n '/node/2287',\n '/node/2286',\n '/node/2285',\n '/node/2284',\n '/node/2282',\n '/node/2280',\n '/node/2279',\n '/node/2277',\n '/node/2273',\n '/node/2272',\n '/node/2270',\n '/node/2268',\n '/node/2267',\n '/node/2266',\n '/node/2264',\n '/node/2263',\n '/node/2261',\n '/node/2260',\n '/node/2258',\n '/node/2256',\n '/node/2255',\n '/node/2253',\n '/node/2252',\n '/node/2251',\n '/node/2250',\n '/node/2249',\n '/node/2247',\n '/node/2246',\n '/node/2245',\n '/node/2244',\n '/node/2243',\n '/node/2241',\n '/node/2240',\n '/node/2238',\n '/node/2232',\n '/node/2231',\n '/node/2230',\n '/node/2228',\n '/node/2227',\n '/node/2225',\n '/node/2224',\n '/node/2223',\n '/node/2222',\n '/node/2220',\n '/node/2219',\n '/node/2217',\n '/node/2215',\n '/node/2214',\n '/node/2213',\n '/node/2212',\n '/node/2210',\n '/node/2209',\n '/node/2208',\n '/node/2207',\n '/node/2206',\n '/node/2205',\n '/node/2198',\n '/node/2200',\n '/node/2196',\n '/node/2194',\n '/node/2193',\n '/node/2192',\n '/node/2191',\n '/node/2190',\n '/node/2189',\n '/node/2188',\n '/node/2187',\n '/node/2186',\n '/node/2185',\n '/node/2181',\n '/node/2176',\n '/node/2175',\n '/node/2174',\n '/node/2172',\n '/node/2171',\n '/node/2170',\n '/node/2167',\n '/node/2166',\n '/node/2165',\n '/node/2163',\n '/node/2162',\n '/node/2160',\n '/node/2157',\n '/node/2156',\n '/node/2153',\n '/node/2152',\n '/node/2151',\n '/node/2150',\n '/node/2149',\n '/node/2147',\n '/node/2146',\n '/node/2143',\n '/node/2142',\n '/node/2139',\n '/node/2138',\n '/node/2124',\n '/node/2121',\n '/node/2120',\n '/node/2116',\n '/node/2114',\n '/node/2113',\n '/node/2111',\n '/node/2110',\n '/node/2109',\n '/node/2108',\n '/node/2107',\n '/node/2105',\n '/node/2103',\n '/node/2102',\n '/node/2101',\n '/node/2098',\n '/node/2095',\n '/node/2094',\n '/node/2093',\n '/node/2092',\n '/node/2091',\n '/node/2089',\n '/node/2086',\n '/node/2085',\n '/node/2084',\n '/node/2083',\n '/node/2081',\n '/node/2080',\n '/node/2079',\n '/node/2078',\n '/node/2077',\n '/node/2074',\n '/node/2071',\n '/node/2070',\n '/node/2069',\n '/node/2068',\n '/node/2067',\n '/node/2065',\n '/node/2064',\n '/node/2063',\n '/node/2060',\n '/node/2059',\n '/node/2058',\n '/node/2057',\n '/node/2056',\n '/node/2052',\n '/node/2051',\n '/node/2050',\n '/node/2048',\n '/node/2045',\n '/node/2041',\n '/node/2038',\n '/node/2037',\n '/node/2036',\n '/node/2035',\n '/node/2034',\n '/node/2033',\n '/node/2031',\n '/node/2030',\n '/node/2029',\n '/node/2028',\n '/node/2026',\n '/node/2025',\n '/node/2023',\n '/node/2021',\n '/node/2020',\n '/node/2017',\n '/node/2015',\n '/node/2014',\n '/node/2013',\n '/node/2011',\n '/node/2009',\n '/node/2007',\n '/node/2006',\n '/node/2008',\n '/node/2005',\n '/node/2004',\n '/node/2001',\n '/node/1999',\n '/node/1993',\n '/node/1990',\n '/node/1989',\n '/node/1987',\n '/node/1976',\n '/node/1974',\n '/node/1973',\n '/node/1972',\n '/node/1970',\n '/node/1968',\n '/node/1965',\n '/node/1967',\n '/node/1963',\n '/node/1962',\n '/node/1960',\n '/node/1958',\n '/node/1957',\n '/node/1956',\n '/node/1954',\n '/node/1953',\n '/node/1951',\n '/node/1950',\n '/node/1948',\n '/node/1947',\n '/node/1946',\n '/node/1944',\n '/node/1943',\n '/node/1942',\n '/node/1940',\n '/node/1939',\n '/node/1937',\n '/node/1935',\n '/node/1932',\n '/node/1931',\n '/node/1930',\n '/node/1929',\n '/node/1928',\n '/node/1927',\n '/node/1925',\n '/node/1924',\n '/node/1918',\n '/node/1917',\n '/node/1916',\n '/node/1914',\n '/node/1913',\n '/node/1912',\n '/node/1910',\n '/node/1908',\n '/node/1907',\n '/node/1906',\n '/node/1905',\n '/node/1903',\n '/node/1901',\n '/node/1900',\n ...]"
     },
     "execution_count": 55,
     "metadata": {},
     "output_type": "execute_result"
    }
   ],
   "source": [
    "# news_link_exist"
   ],
   "metadata": {
    "collapsed": false,
    "pycharm": {
     "name": "#%%\n"
    }
   }
  },
  {
   "cell_type": "code",
   "execution_count": 6,
   "outputs": [],
   "source": [
    "#main program to cycle from 0 to 85 to get the news list with information mentioned before\n",
    "for i in range(5):\n",
    "    html_data = return_html(str(i))\n",
    "    df = parse_df(html_data)\n",
    "    df_new = df[~df['news link'].isin(news_link_exist)]\n",
    "    news_df_ = pd.concat([news_df_, df_new], axis=0)\n",
    "    sleeptime=random.randint(8, 12)\n",
    "    time.sleep(sleeptime)"
   ],
   "metadata": {
    "collapsed": false,
    "pycharm": {
     "name": "#%%\n"
    }
   }
  },
  {
   "cell_type": "code",
   "execution_count": 7,
   "outputs": [
    {
     "data": {
      "text/plain": "                                       news title             news writer  \\\n0  “自信担当 全国标杆”人力资源部传达学习省分年度工作会议精神，认真落实市分公司再学习部署要求        苏州市分公司人力资源部--吴荣昌   \n1                            苏州联通党群工作部宣贯省公司工作会议精神         苏州市分公司党群工作部--廖姮   \n2                    客户价值运营中心组织开展群组化智家包及移移融合专项推进会     苏州市分公司客户价值运营中心--余珍璐   \n3                          昆山分公司政企线召开苏康码防疫产品攻坚调度会  苏州市昆山市综合支撑中心后勤保障组--陆群芳   \n4                        工业园区分公司开展2022年春节引流交付跟单演练      苏州市工业园区综合支撑中心--吴静文   \n\n                                        news content   news date   news link  \n0  1月17日上午，人力资源部全体成员对省分公司2022年度工作会议精神进行集中学习传达，并围绕...  2022-01-17  /node/3866  \n1  1月17日，苏州联通党群工作部召开会议，贯彻落实集团公司“1+8+2”战略规划体系、省公司年...  2022-01-17  /node/3865  \n2  为强化一线人员对群组化智家包和移移融合营销产品的熟知度，加快推进落实。1月14日下午，客户价...  2022-01-17  /node/3863  \n3  1月15日上午，为加快昆山苏康码防疫产品规模突破，昆山分公司政企线组织召开苏康码防疫产品攻坚...  2022-01-17  /node/3860  \n4  2022年春节引流交付战役即将打响，为全力保障春节引流交付的高质转化，全面提升员工兼职队伍的...  2022-01-17  /node/3861  ",
      "text/html": "<div>\n<style scoped>\n    .dataframe tbody tr th:only-of-type {\n        vertical-align: middle;\n    }\n\n    .dataframe tbody tr th {\n        vertical-align: top;\n    }\n\n    .dataframe thead th {\n        text-align: right;\n    }\n</style>\n<table border=\"1\" class=\"dataframe\">\n  <thead>\n    <tr style=\"text-align: right;\">\n      <th></th>\n      <th>news title</th>\n      <th>news writer</th>\n      <th>news content</th>\n      <th>news date</th>\n      <th>news link</th>\n    </tr>\n  </thead>\n  <tbody>\n    <tr>\n      <th>0</th>\n      <td>“自信担当 全国标杆”人力资源部传达学习省分年度工作会议精神，认真落实市分公司再学习部署要求</td>\n      <td>苏州市分公司人力资源部--吴荣昌</td>\n      <td>1月17日上午，人力资源部全体成员对省分公司2022年度工作会议精神进行集中学习传达，并围绕...</td>\n      <td>2022-01-17</td>\n      <td>/node/3866</td>\n    </tr>\n    <tr>\n      <th>1</th>\n      <td>苏州联通党群工作部宣贯省公司工作会议精神</td>\n      <td>苏州市分公司党群工作部--廖姮</td>\n      <td>1月17日，苏州联通党群工作部召开会议，贯彻落实集团公司“1+8+2”战略规划体系、省公司年...</td>\n      <td>2022-01-17</td>\n      <td>/node/3865</td>\n    </tr>\n    <tr>\n      <th>2</th>\n      <td>客户价值运营中心组织开展群组化智家包及移移融合专项推进会</td>\n      <td>苏州市分公司客户价值运营中心--余珍璐</td>\n      <td>为强化一线人员对群组化智家包和移移融合营销产品的熟知度，加快推进落实。1月14日下午，客户价...</td>\n      <td>2022-01-17</td>\n      <td>/node/3863</td>\n    </tr>\n    <tr>\n      <th>3</th>\n      <td>昆山分公司政企线召开苏康码防疫产品攻坚调度会</td>\n      <td>苏州市昆山市综合支撑中心后勤保障组--陆群芳</td>\n      <td>1月15日上午，为加快昆山苏康码防疫产品规模突破，昆山分公司政企线组织召开苏康码防疫产品攻坚...</td>\n      <td>2022-01-17</td>\n      <td>/node/3860</td>\n    </tr>\n    <tr>\n      <th>4</th>\n      <td>工业园区分公司开展2022年春节引流交付跟单演练</td>\n      <td>苏州市工业园区综合支撑中心--吴静文</td>\n      <td>2022年春节引流交付战役即将打响，为全力保障春节引流交付的高质转化，全面提升员工兼职队伍的...</td>\n      <td>2022-01-17</td>\n      <td>/node/3861</td>\n    </tr>\n  </tbody>\n</table>\n</div>"
     },
     "execution_count": 7,
     "metadata": {},
     "output_type": "execute_result"
    }
   ],
   "source": [
    "news_df_"
   ],
   "metadata": {
    "collapsed": false,
    "pycharm": {
     "name": "#%%\n"
    }
   }
  },
  {
   "cell_type": "code",
   "execution_count": 8,
   "outputs": [
    {
     "data": {
      "text/plain": "                                          news title             news writer  \\\n0     “自信担当 全国标杆”人力资源部传达学习省分年度工作会议精神，认真落实市分公司再学习部署要求        苏州市分公司人力资源部--吴荣昌   \n1                               苏州联通党群工作部宣贯省公司工作会议精神         苏州市分公司党群工作部--廖姮   \n2                       客户价值运营中心组织开展群组化智家包及移移融合专项推进会     苏州市分公司客户价值运营中心--余珍璐   \n3                             昆山分公司政企线召开苏康码防疫产品攻坚调度会  苏州市昆山市综合支撑中心后勤保障组--陆群芳   \n4                           工业园区分公司开展2022年春节引流交付跟单演练      苏州市工业园区综合支撑中心--吴静文   \n...                                              ...                     ...   \n1924                              张家港分公司召开“7月第二周周例会”       苏州市张家港市综合支撑中心--陈莹   \n1925              “全力以赴，奋战三季度”——市区分公司快速落实市分公司周例会工作要求           苏州市分公司办公室--徐可   \n1926                    明方向 知不足 打胜仗——苏州市分公司召开7月工作部署会           苏州市分公司办公室--徐可   \n1927                      苏州联通干字当头，全力保障沪苏通长江公铁大桥正式通车           苏州市分公司办公室--徐可   \n1928                            苏州市分公司开展2020年度安全生产培训           苏州市分公司办公室--徐可   \n\n                                           news content   news date  \\\n0     1月17日上午，人力资源部全体成员对省分公司2022年度工作会议精神进行集中学习传达，并围绕...  2022-01-17   \n1     1月17日，苏州联通党群工作部召开会议，贯彻落实集团公司“1+8+2”战略规划体系、省公司年...  2022-01-17   \n2     为强化一线人员对群组化智家包和移移融合营销产品的熟知度，加快推进落实。1月14日下午，客户价...  2022-01-17   \n3     1月15日上午，为加快昆山苏康码防疫产品规模突破，昆山分公司政企线组织召开苏康码防疫产品攻坚...  2022-01-17   \n4     2022年春节引流交付战役即将打响，为全力保障春节引流交付的高质转化，全面提升员工兼职队伍的...  2022-01-17   \n...                                                 ...         ...   \n1924        7月13日晚，张家港分公司召开“7月第二周周例会”，各部门、网格（中心）对上周的...  2020-07-14   \n1925          7月13日晚，市区分公司在滨河路1300号309会议室召集各条线部门、网格、...  2020-07-14   \n1926          7月6日，苏州市分公司召开7月工作部署会，总结6月得失，明确7月方向。公司领...  2020-07-07   \n1927         7月1日上午11时45分，随着沪苏通铁路首趟列车缓缓使入张家港站，苏州常熟、太...  2020-07-06   \n1928         7月4日，为进一步落实企业安全生产主体责任，提升企业安全生产能力和水平，苏州市...  2020-07-06   \n\n       news link  \n0     /node/3866  \n1     /node/3865  \n2     /node/3863  \n3     /node/3860  \n4     /node/3861  \n...          ...  \n1924   /node/106  \n1925   /node/103  \n1926    /node/87  \n1927    /node/85  \n1928    /node/84  \n\n[1934 rows x 5 columns]",
      "text/html": "<div>\n<style scoped>\n    .dataframe tbody tr th:only-of-type {\n        vertical-align: middle;\n    }\n\n    .dataframe tbody tr th {\n        vertical-align: top;\n    }\n\n    .dataframe thead th {\n        text-align: right;\n    }\n</style>\n<table border=\"1\" class=\"dataframe\">\n  <thead>\n    <tr style=\"text-align: right;\">\n      <th></th>\n      <th>news title</th>\n      <th>news writer</th>\n      <th>news content</th>\n      <th>news date</th>\n      <th>news link</th>\n    </tr>\n  </thead>\n  <tbody>\n    <tr>\n      <th>0</th>\n      <td>“自信担当 全国标杆”人力资源部传达学习省分年度工作会议精神，认真落实市分公司再学习部署要求</td>\n      <td>苏州市分公司人力资源部--吴荣昌</td>\n      <td>1月17日上午，人力资源部全体成员对省分公司2022年度工作会议精神进行集中学习传达，并围绕...</td>\n      <td>2022-01-17</td>\n      <td>/node/3866</td>\n    </tr>\n    <tr>\n      <th>1</th>\n      <td>苏州联通党群工作部宣贯省公司工作会议精神</td>\n      <td>苏州市分公司党群工作部--廖姮</td>\n      <td>1月17日，苏州联通党群工作部召开会议，贯彻落实集团公司“1+8+2”战略规划体系、省公司年...</td>\n      <td>2022-01-17</td>\n      <td>/node/3865</td>\n    </tr>\n    <tr>\n      <th>2</th>\n      <td>客户价值运营中心组织开展群组化智家包及移移融合专项推进会</td>\n      <td>苏州市分公司客户价值运营中心--余珍璐</td>\n      <td>为强化一线人员对群组化智家包和移移融合营销产品的熟知度，加快推进落实。1月14日下午，客户价...</td>\n      <td>2022-01-17</td>\n      <td>/node/3863</td>\n    </tr>\n    <tr>\n      <th>3</th>\n      <td>昆山分公司政企线召开苏康码防疫产品攻坚调度会</td>\n      <td>苏州市昆山市综合支撑中心后勤保障组--陆群芳</td>\n      <td>1月15日上午，为加快昆山苏康码防疫产品规模突破，昆山分公司政企线组织召开苏康码防疫产品攻坚...</td>\n      <td>2022-01-17</td>\n      <td>/node/3860</td>\n    </tr>\n    <tr>\n      <th>4</th>\n      <td>工业园区分公司开展2022年春节引流交付跟单演练</td>\n      <td>苏州市工业园区综合支撑中心--吴静文</td>\n      <td>2022年春节引流交付战役即将打响，为全力保障春节引流交付的高质转化，全面提升员工兼职队伍的...</td>\n      <td>2022-01-17</td>\n      <td>/node/3861</td>\n    </tr>\n    <tr>\n      <th>...</th>\n      <td>...</td>\n      <td>...</td>\n      <td>...</td>\n      <td>...</td>\n      <td>...</td>\n    </tr>\n    <tr>\n      <th>1924</th>\n      <td>张家港分公司召开“7月第二周周例会”</td>\n      <td>苏州市张家港市综合支撑中心--陈莹</td>\n      <td>7月13日晚，张家港分公司召开“7月第二周周例会”，各部门、网格（中心）对上周的...</td>\n      <td>2020-07-14</td>\n      <td>/node/106</td>\n    </tr>\n    <tr>\n      <th>1925</th>\n      <td>“全力以赴，奋战三季度”——市区分公司快速落实市分公司周例会工作要求</td>\n      <td>苏州市分公司办公室--徐可</td>\n      <td>7月13日晚，市区分公司在滨河路1300号309会议室召集各条线部门、网格、...</td>\n      <td>2020-07-14</td>\n      <td>/node/103</td>\n    </tr>\n    <tr>\n      <th>1926</th>\n      <td>明方向 知不足 打胜仗——苏州市分公司召开7月工作部署会</td>\n      <td>苏州市分公司办公室--徐可</td>\n      <td>7月6日，苏州市分公司召开7月工作部署会，总结6月得失，明确7月方向。公司领...</td>\n      <td>2020-07-07</td>\n      <td>/node/87</td>\n    </tr>\n    <tr>\n      <th>1927</th>\n      <td>苏州联通干字当头，全力保障沪苏通长江公铁大桥正式通车</td>\n      <td>苏州市分公司办公室--徐可</td>\n      <td>7月1日上午11时45分，随着沪苏通铁路首趟列车缓缓使入张家港站，苏州常熟、太...</td>\n      <td>2020-07-06</td>\n      <td>/node/85</td>\n    </tr>\n    <tr>\n      <th>1928</th>\n      <td>苏州市分公司开展2020年度安全生产培训</td>\n      <td>苏州市分公司办公室--徐可</td>\n      <td>7月4日，为进一步落实企业安全生产主体责任，提升企业安全生产能力和水平，苏州市...</td>\n      <td>2020-07-06</td>\n      <td>/node/84</td>\n    </tr>\n  </tbody>\n</table>\n<p>1934 rows × 5 columns</p>\n</div>"
     },
     "execution_count": 8,
     "metadata": {},
     "output_type": "execute_result"
    }
   ],
   "source": [
    "news_df_ = pd.concat([news_df_, df_exist], axis = 0)\n",
    "news_df_"
   ],
   "metadata": {
    "collapsed": false,
    "pycharm": {
     "name": "#%%\n"
    }
   }
  },
  {
   "cell_type": "code",
   "execution_count": 9,
   "outputs": [],
   "source": [
    "news_df_.to_csv('result.csv', encoding='utf_8_sig', index=0)\n",
    "\n"
   ],
   "metadata": {
    "collapsed": false,
    "pycharm": {
     "name": "#%%\n"
    }
   }
  }
 ],
 "metadata": {
  "kernelspec": {
   "display_name": "Python 3",
   "language": "python",
   "name": "python3"
  },
  "language_info": {
   "codemirror_mode": {
    "name": "ipython",
    "version": 2
   },
   "file_extension": ".py",
   "mimetype": "text/x-python",
   "name": "python",
   "nbconvert_exporter": "python",
   "pygments_lexer": "ipython2",
   "version": "2.7.6"
  }
 },
 "nbformat": 4,
 "nbformat_minor": 0
}